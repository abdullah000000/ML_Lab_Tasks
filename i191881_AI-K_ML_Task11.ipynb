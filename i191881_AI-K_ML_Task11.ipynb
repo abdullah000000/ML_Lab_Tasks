{
 "cells": [
  {
   "cell_type": "markdown",
   "metadata": {},
   "source": [
    "## i191881 Abdullah Hameed"
   ]
  },
  {
   "cell_type": "markdown",
   "metadata": {},
   "source": [
    "### Numpy Exercise\n",
    "In this exercise, we will be working with a dataset with the information of baseball players. Here is the code to read the dataset and convert it into lists."
   ]
  },
  {
   "cell_type": "code",
   "execution_count": 1,
   "metadata": {
    "collapsed": false
   },
   "outputs": [
    {
     "name": "stdout",
     "output_type": "stream",
     "text": [
      "Populating the interactive namespace from numpy and matplotlib\n"
     ]
    }
   ],
   "source": [
    "%pylab inline"
   ]
  },
  {
   "cell_type": "code",
   "execution_count": 2,
   "metadata": {
    "collapsed": true
   },
   "outputs": [],
   "source": [
    "import pandas as pd"
   ]
  },
  {
   "cell_type": "code",
   "execution_count": 3,
   "metadata": {
    "collapsed": false
   },
   "outputs": [],
   "source": [
    "bbdata=pd.read_csv('./baseball.csv')\n",
    "\n",
    "height=list(bbdata['height'])\n",
    "weight=list(bbdata['weights'])"
   ]
  },
  {
   "cell_type": "code",
   "execution_count": 4,
   "metadata": {
    "collapsed": false
   },
   "outputs": [
    {
     "data": {
      "text/plain": [
       "<matplotlib.collections.PathCollection at 0x7f8388114cf8>"
      ]
     },
     "execution_count": 4,
     "metadata": {},
     "output_type": "execute_result"
    },
    {
     "data": {
      "image/png": "[encoded data removed]",
      "text/plain": [
       "<Figure size 432x288 with 1 Axes>"
      ]
     },
     "metadata": {},
     "output_type": "display_data"
    }
   ],
   "source": [
    "plt.scatter(height,weight)"
   ]
  },
  {
   "cell_type": "markdown",
   "metadata": {},
   "source": [
    "### Real Work begins\n",
    "We have height and weidths as lists now, you task is to convert them into numpy arrays and then acheive the following insights.\n",
    "The units are height in inches, weight in Kgs"
   ]
  },
  {
   "cell_type": "code",
   "execution_count": 6,
   "metadata": {
    "collapsed": true
   },
   "outputs": [
    {
     "name": "stdout",
     "output_type": "stream",
     "text": [
      "np_height =  [74 74 72 ... 75 75 73]\n",
      "np_weight_kg =  [81.64656 97.52228 95.25432 ... 92.98636 86.18248 88.45044]\n"
     ]
    }
   ],
   "source": [
    "# height is available as a regular list\n",
    "\n",
    "\n",
    "# Import numpy\n",
    "import numpy as np\n",
    "\n",
    "# Create a Numpy array from height: np_height\n",
    "np_height = np.array(height)\n",
    "\n",
    "\n",
    "# Print out np_height\n",
    "print(\"np_height = \", np_height)\n",
    "\n",
    "\n",
    "\n",
    "# Create array from weight with correct units: np_weight_kg \n",
    "np_weight_kg = np.array(weight) * 0.453592\n",
    "\n",
    "\n",
    "\n",
    "# print the array np_weight_kg\n",
    "print(\"np_weight_kg = \", np_weight_kg)"
   ]
  },
  {
   "cell_type": "markdown",
   "metadata": {},
   "source": [
    "* 1 meter = 39.3701 inches"
   ]
  },
  {
   "cell_type": "code",
   "execution_count": 7,
   "metadata": {
    "collapsed": true
   },
   "outputs": [
    {
     "name": "stdout",
     "output_type": "stream",
     "text": [
      "np_height_m =  [1.8796 1.8796 1.8288 ... 1.905  1.905  1.8542]\n"
     ]
    }
   ],
   "source": [
    "# Convert np_height to meters: np_height_m\n",
    "np_height_m = np_height * 0.0254\n",
    "\n",
    "\n",
    "# Print np_height_m\n",
    "print(\"np_height_m = \", np_height_m)\n",
    "\n"
   ]
  },
  {
   "cell_type": "markdown",
   "metadata": {},
   "source": [
    "- BMI=weight(kg)/(height (in m)**2)"
   ]
  },
  {
   "cell_type": "code",
   "execution_count": 8,
   "metadata": {
    "collapsed": true
   },
   "outputs": [
    {
     "name": "stdout",
     "output_type": "stream",
     "text": [
      "bmi =  [23.11037639 27.60406069 28.48080465 ... 25.62295933 23.74810865\n",
      " 25.72686361]\n"
     ]
    }
   ],
   "source": [
    "# Calculate the BMI: bmi\n",
    "bmi = np_weight_kg / np_height_m ** 2\n",
    "\n",
    "\n",
    "\n",
    "# Print out bmi\n",
    "print(\"bmi = \", bmi)"
   ]
  },
  {
   "cell_type": "markdown",
   "metadata": {},
   "source": [
    "Create a boolean Numpy array: the element of the array should be True if the corresponding baseball player's BMI is below 21. You can use the < operator for this. Name the array light.\n",
    "Print the array light.\n",
    "Print out a Numpy array with the BMIs of all baseball players whose BMI is below 21. Use light inside square brackets to do a selection on the bmi array.\n"
   ]
  },
  {
   "cell_type": "code",
   "execution_count": 12,
   "metadata": {
    "collapsed": true
   },
   "outputs": [
    {
     "name": "stdout",
     "output_type": "stream",
     "text": [
      "light =  [False False False ... False False False]\n"
     ]
    }
   ],
   "source": [
    "# Create a boolean Numpy array: the element of the array should be True if the corresponding baseball player's BMI is below 21. You can use the < operator for this. Name the array light.\n",
    "# Print the array light.\n",
    "# Print out a Numpy array with the BMIs of all baseball players whose BMI is below 21. Use light inside square brackets to do a selection on the bmi array.\n",
    "\n",
    "# Create boolean numpy array for BMIs below 21: light\n",
    "light = bmi < 21\n",
    "\n",
    "# Print out light\n",
    "print(\"light = \", light)\n",
    "    "
   ]
  },
  {
   "cell_type": "code",
   "execution_count": 13,
   "metadata": {
    "collapsed": true
   },
   "outputs": [
    {
     "name": "stdout",
     "output_type": "stream",
     "text": [
      "type(np_baseball) =  <class 'numpy.ndarray'>\n",
      "np_baseball.shape =  (4, 2)\n"
     ]
    }
   ],
   "source": [
    "# Create baseball, a list of lists\n",
    "baseball = [[180, 78.4],\n",
    "            [215, 102.7],\n",
    "            [210, 98.5],\n",
    "            [188, 75.2]]\n",
    "\n",
    "# Import numpy\n",
    "import numpy as np\n",
    "\n",
    "\n",
    "# Create a 2D Numpy array from baseball: np_baseball\n",
    "np_baseball = np.array(baseball)\n",
    "\n",
    "\n",
    "\n",
    "# Print out the type of np_baseball\n",
    "print(\"type(np_baseball) = \", type(np_baseball))\n",
    "\n",
    "\n",
    "\n",
    "# Print out the shape of np_baseball\n",
    "print(\"np_baseball.shape = \", np_baseball.shape)"
   ]
  },
  {
   "cell_type": "code",
   "execution_count": 14,
   "metadata": {
    "collapsed": true
   },
   "outputs": [
    {
     "name": "stdout",
     "output_type": "stream",
     "text": [
      "np_baseball.shape =  (4, 2)\n"
     ]
    }
   ],
   "source": [
    "# Create a 2D Numpy array named np_baseball from the lists of weight and height\n",
    "np_baseball = np.array(baseball)\n",
    "\n",
    "        \n",
    "\n",
    "\n",
    "\n",
    "# Print out the shape of np_baseball\n",
    "print(\"np_baseball.shape = \", np_baseball.shape)\n",
    "\n"
   ]
  },
  {
   "cell_type": "markdown",
   "metadata": {},
   "source": [
    "- If you want to convert the units of height and weight. As a first step, create a Numpy array with two values: 0.0254, 0.453592. Name this array conversion.\n",
    "Multiply np_baseball with conversion and print out the result."
   ]
  },
  {
   "cell_type": "code",
   "execution_count": 15,
   "metadata": {
    "collapsed": false
   },
   "outputs": [
    {
     "name": "stdout",
     "output_type": "stream",
     "text": [
      "np_baseball * conversion =  [[ 4.572     35.5616128]\n",
      " [ 5.461     46.5838984]\n",
      " [ 5.334     44.678812 ]\n",
      " [ 4.7752    34.1101184]]\n"
     ]
    }
   ],
   "source": [
    "# - If you want to convert the units of height and weight. As a first step, create a Numpy array with two values: 0.0254, 0.453592. Name this array conversion.\n",
    "# Multiply np_baseball with conversion and print out the result.    # \n",
    "\n",
    "# Create numpy array: conversion\n",
    "conversion = np.array([0.0254, 0.453592])\n",
    "\n",
    "# Print out product of np_baseball and conversion\n",
    "print(\"np_baseball * conversion = \", np_baseball * conversion)\n",
    "    "
   ]
  },
  {
   "cell_type": "markdown",
   "metadata": {},
   "source": [
    "### Now it's time for some statistics"
   ]
  },
  {
   "cell_type": "code",
   "execution_count": 17,
   "metadata": {
    "collapsed": false
   },
   "outputs": [
    {
     "name": "stdout",
     "output_type": "stream",
     "text": [
      "np_height.mean() =  73.6972920696325\n",
      "np_height.median() =  74.0\n",
      "np.median(np_height) =  74.0\n",
      "np.std(np_height) =  2.304703041620148\n",
      "np.corrcoef(np_baseball[:,0], np_baseball[:,1]) =  [[1.         0.95865738]\n",
      " [0.95865738 1.        ]]\n"
     ]
    }
   ],
   "source": [
    "# Print out the mean of np_height\n",
    "print(\"np_height.mean() = \", np_height.mean())\n",
    "\n",
    "\n",
    "# Print out the median of np_height\n",
    "print(\"np_height.median() = \", np.median(np_height))\n",
    "\n",
    "\n",
    "\n",
    "# Print median height. Replace 'None'\n",
    "print(\"np.median(np_height) = \", np.median(np_height))\n",
    "\n",
    "# Print out the standard deviation on height. Replace 'None'\n",
    "print(\"np.std(np_height) = \", np.std(np_height))\n",
    "\n",
    "# Print out correlation between first and second column. Replace 'None'\n",
    "print(\"np.corrcoef(np_baseball[:,0], np_baseball[:,1]) = \", np.corrcoef(np_baseball[:,0], np_baseball[:,1]))\n"
   ]
  },
  {
   "cell_type": "code",
   "execution_count": 18,
   "metadata": {
    "collapsed": true
   },
   "outputs": [
    {
     "name": "stdout",
     "output_type": "stream",
     "text": [
      "np.argmax(np_height) =  928\n"
     ]
    }
   ],
   "source": [
    "# Print the index of player with maximum height\n",
    "print(\"np.argmax(np_height) = \", np.argmax(np_height))\n",
    "    \n"
   ]
  },
  {
   "cell_type": "code",
   "execution_count": 21,
   "metadata": {
    "collapsed": true
   },
   "outputs": [],
   "source": [
    "#Replace all the players height greater than 6 Feet with 6 Feet\n",
    "np_height[np_height > 6] = 6\n"
   ]
  },
  {
   "cell_type": "code",
   "execution_count": 25,
   "metadata": {
    "collapsed": true
   },
   "outputs": [
    {
     "name": "stdout",
     "output_type": "stream",
     "text": [
      "np.sum(np_weight_kg > 75) =  999\n"
     ]
    }
   ],
   "source": [
    "#Count number of players with weight greater than 75 kg..\n",
    "print(\"np.sum(np_weight_kg > 75) = \", np.sum(np_weight_kg > 75))\n"
   ]
  },
  {
   "cell_type": "code",
   "execution_count": 27,
   "metadata": {
    "collapsed": true
   },
   "outputs": [
    {
     "name": "stdout",
     "output_type": "stream",
     "text": [
      "np_height_sorted =  [6 6 6 ... 6 6 6]\n",
      "np_height_index =  [   0  680  681 ...  353  323 1033]\n"
     ]
    }
   ],
   "source": [
    "# Sort the height, and get the sorting index as well\n",
    "np_height_sorted = np.sort(np_height)\n",
    "print(\"np_height_sorted = \", np_height_sorted)\n",
    "\n",
    "# get the index of the sorted height\n",
    "np_height_index = np.argsort(np_height)\n",
    "print(\"np_height_index = \", np_height_index)\n",
    "    "
   ]
  },
  {
   "cell_type": "code",
   "execution_count": 28,
   "metadata": {
    "collapsed": true
   },
   "outputs": [
    {
     "name": "stdout",
     "output_type": "stream",
     "text": [
      "np_baseball_2 =  [[180.   78.4 215.  102.7]\n",
      " [210.   98.5 188.   75.2]]\n"
     ]
    }
   ],
   "source": [
    "#Reshape the 2 x Number of Players array to Number of Players x 2\n",
    "np_baseball_2 = np_baseball.reshape(2, -1)\n",
    "print(\"np_baseball_2 = \", np_baseball_2)\n",
    "    "
   ]
  },
  {
   "cell_type": "code",
   "execution_count": 29,
   "metadata": {
    "collapsed": true
   },
   "outputs": [
    {
     "data": {
      "image/png": "[encoded data removed]",
      "text/plain": [
       "<Figure size 432x288 with 1 Axes>"
      ]
     },
     "metadata": {},
     "output_type": "display_data"
    }
   ],
   "source": [
    "#Generate Scatter Plot, See plt.scatter, use height as one axis and weight as second axis\n",
    "import matplotlib.pyplot as plt\n",
    "plt.scatter(np_height, np_weight_kg)\n",
    "plt.show()\n",
    "    \n",
    "\n"
   ]
  },
  {
   "cell_type": "code",
   "execution_count": 30,
   "metadata": {
    "collapsed": true
   },
   "outputs": [
    {
     "name": "stdout",
     "output_type": "stream",
     "text": [
      "random_player =  61\n",
      "np_height[random_player] =  6\n",
      "np_weight_kg[random_player] =  90.7184\n"
     ]
    },
    {
     "data": {
      "image/png": "[encoded data removed]",
      "text/plain": [
       "<Figure size 432x288 with 1 Axes>"
      ]
     },
     "metadata": {},
     "output_type": "display_data"
    }
   ],
   "source": [
    "#Now choose a random player, and project player height and weight to this random player, you can plot\n",
    "# the vector using plt.arrow function\n",
    "\n",
    "# Generate a random number between 0 and 100\n",
    "random_player = np.random.randint(0, 100)\n",
    "\n",
    "# Print out the number\n",
    "print(\"random_player = \", random_player)\n",
    "\n",
    "# Print out the height and weight of the random player\n",
    "print(\"np_height[random_player] = \", np_height[random_player])\n",
    "print(\"np_weight_kg[random_player] = \", np_weight_kg[random_player])\n",
    "\n",
    "# Plot the scatter plot\n",
    "plt.scatter(np_height, np_weight_kg)\n",
    "\n",
    "# Plot the arrow\n",
    "plt.arrow(0, 0, np_height[random_player], np_weight_kg[random_player], color='red', width=0.2, head_width=3)\n",
    "\n",
    "# Show the plot\n",
    "plt.show()\n"
   ]
  },
  {
   "cell_type": "markdown",
   "metadata": {},
   "source": [
    "#### Advanced Operations"
   ]
  },
  {
   "cell_type": "markdown",
   "metadata": {},
   "source": [
    "1. Construct an array from the list: [1,2,3]\n",
    "2. Cast it into floats\n",
    "3. Create an array of int ranging from 0-10 \n",
    "4. Create an array containing 7 evenly spaced numbers between 0 and 23\n",
    "5. Create an array with shape (2,5,1,5,2,1) containing only the number 5\n",
    "6. Eliminate all length-1 dimensions. See the function squeeze.\n",
    "7. Reshape the resulting array from shape (2,5,3,2) to only 2D\n",
    "8. Calculate the mean, std, var, max, min, of an array with shape (3,3,12,3) containing floats drawn\n",
    "from a normal distribution with mean 21 and sigma 4.5. see the np.random.normal.\n",
    "9. Do the same but not on all elements but only on the 2nd dimension. \n",
    "10. Transform the array such that it is only 1d. See the function Flatten or ravel\n",
    "11. Remove all values smaller 15 and larger 26.\n",
    "12. Clip all values smaller 15 and larger 26 to NaN. See the function Clip\n",
    "13. Calculate the sum of the resulting array. It should not be NaN!.\n",
    "14. Convert the NaN’s to 0.0. See Where\n",
    "15. Save the array and load it again."
   ]
  },
  {
   "cell_type": "code",
   "execution_count": 31,
   "metadata": {},
   "outputs": [],
   "source": [
    "# 1. Construct an array from the list: [1,2,3]\n",
    "list1 = np.array([1,2,3])\n"
   ]
  },
  {
   "cell_type": "code",
   "execution_count": 35,
   "metadata": {},
   "outputs": [
    {
     "name": "stdout",
     "output_type": "stream",
     "text": [
      "float64\n"
     ]
    }
   ],
   "source": [
    "# 2. Cast it into floats\n",
    "list1 = list1.astype(float)\n",
    "print(list1.dtype)\n"
   ]
  },
  {
   "cell_type": "code",
   "execution_count": 36,
   "metadata": {},
   "outputs": [
    {
     "name": "stdout",
     "output_type": "stream",
     "text": [
      "[ 0  1  2  3  4  5  6  7  8  9 10]\n"
     ]
    }
   ],
   "source": [
    "# Create an array of int ranging from 0-10 \n",
    "list2 = np.arange(0, 11)\n",
    "print(list2)\n",
    "    "
   ]
  },
  {
   "cell_type": "code",
   "execution_count": 37,
   "metadata": {},
   "outputs": [
    {
     "name": "stdout",
     "output_type": "stream",
     "text": [
      "[ 0.          3.83333333  7.66666667 11.5        15.33333333 19.16666667\n",
      " 23.        ]\n"
     ]
    }
   ],
   "source": [
    "# Create an array containing 7 evenly spaced numbers between 0 and 23\n",
    "list3 = np.linspace(0, 23, 7)\n",
    "print(list3)"
   ]
  },
  {
   "cell_type": "code",
   "execution_count": 38,
   "metadata": {},
   "outputs": [
    {
     "name": "stdout",
     "output_type": "stream",
     "text": [
      "[[[[[[5]\n",
      "     [5]]\n",
      "\n",
      "    [[5]\n",
      "     [5]]\n",
      "\n",
      "    [[5]\n",
      "     [5]]\n",
      "\n",
      "    [[5]\n",
      "     [5]]\n",
      "\n",
      "    [[5]\n",
      "     [5]]]]\n",
      "\n",
      "\n",
      "\n",
      "  [[[[5]\n",
      "     [5]]\n",
      "\n",
      "    [[5]\n",
      "     [5]]\n",
      "\n",
      "    [[5]\n",
      "     [5]]\n",
      "\n",
      "    [[5]\n",
      "     [5]]\n",
      "\n",
      "    [[5]\n",
      "     [5]]]]\n",
      "\n",
      "\n",
      "\n",
      "  [[[[5]\n",
      "     [5]]\n",
      "\n",
      "    [[5]\n",
      "     [5]]\n",
      "\n",
      "    [[5]\n",
      "     [5]]\n",
      "\n",
      "    [[5]\n",
      "     [5]]\n",
      "\n",
      "    [[5]\n",
      "     [5]]]]\n",
      "\n",
      "\n",
      "\n",
      "  [[[[5]\n",
      "     [5]]\n",
      "\n",
      "    [[5]\n",
      "     [5]]\n",
      "\n",
      "    [[5]\n",
      "     [5]]\n",
      "\n",
      "    [[5]\n",
      "     [5]]\n",
      "\n",
      "    [[5]\n",
      "     [5]]]]\n",
      "\n",
      "\n",
      "\n",
      "  [[[[5]\n",
      "     [5]]\n",
      "\n",
      "    [[5]\n",
      "     [5]]\n",
      "\n",
      "    [[5]\n",
      "     [5]]\n",
      "\n",
      "    [[5]\n",
      "     [5]]\n",
      "\n",
      "    [[5]\n",
      "     [5]]]]]\n",
      "\n",
      "\n",
      "\n",
      "\n",
      " [[[[[5]\n",
      "     [5]]\n",
      "\n",
      "    [[5]\n",
      "     [5]]\n",
      "\n",
      "    [[5]\n",
      "     [5]]\n",
      "\n",
      "    [[5]\n",
      "     [5]]\n",
      "\n",
      "    [[5]\n",
      "     [5]]]]\n",
      "\n",
      "\n",
      "\n",
      "  [[[[5]\n",
      "     [5]]\n",
      "\n",
      "    [[5]\n",
      "     [5]]\n",
      "\n",
      "    [[5]\n",
      "     [5]]\n",
      "\n",
      "    [[5]\n",
      "     [5]]\n",
      "\n",
      "    [[5]\n",
      "     [5]]]]\n",
      "\n",
      "\n",
      "\n",
      "  [[[[5]\n",
      "     [5]]\n",
      "\n",
      "    [[5]\n",
      "     [5]]\n",
      "\n",
      "    [[5]\n",
      "     [5]]\n",
      "\n",
      "    [[5]\n",
      "     [5]]\n",
      "\n",
      "    [[5]\n",
      "     [5]]]]\n",
      "\n",
      "\n",
      "\n",
      "  [[[[5]\n",
      "     [5]]\n",
      "\n",
      "    [[5]\n",
      "     [5]]\n",
      "\n",
      "    [[5]\n",
      "     [5]]\n",
      "\n",
      "    [[5]\n",
      "     [5]]\n",
      "\n",
      "    [[5]\n",
      "     [5]]]]\n",
      "\n",
      "\n",
      "\n",
      "  [[[[5]\n",
      "     [5]]\n",
      "\n",
      "    [[5]\n",
      "     [5]]\n",
      "\n",
      "    [[5]\n",
      "     [5]]\n",
      "\n",
      "    [[5]\n",
      "     [5]]\n",
      "\n",
      "    [[5]\n",
      "     [5]]]]]]\n"
     ]
    }
   ],
   "source": [
    "# Create an array with shape (2,5,1,5,2,1) containing only the number 5\n",
    "list4 = np.full((2,5,1,5,2,1), 5)\n",
    "print(list4)\n",
    "    "
   ]
  },
  {
   "cell_type": "code",
   "execution_count": 39,
   "metadata": {},
   "outputs": [
    {
     "name": "stdout",
     "output_type": "stream",
     "text": [
      "[[[[5 5]\n",
      "   [5 5]\n",
      "   [5 5]\n",
      "   [5 5]\n",
      "   [5 5]]\n",
      "\n",
      "  [[5 5]\n",
      "   [5 5]\n",
      "   [5 5]\n",
      "   [5 5]\n",
      "   [5 5]]\n",
      "\n",
      "  [[5 5]\n",
      "   [5 5]\n",
      "   [5 5]\n",
      "   [5 5]\n",
      "   [5 5]]\n",
      "\n",
      "  [[5 5]\n",
      "   [5 5]\n",
      "   [5 5]\n",
      "   [5 5]\n",
      "   [5 5]]\n",
      "\n",
      "  [[5 5]\n",
      "   [5 5]\n",
      "   [5 5]\n",
      "   [5 5]\n",
      "   [5 5]]]\n",
      "\n",
      "\n",
      " [[[5 5]\n",
      "   [5 5]\n",
      "   [5 5]\n",
      "   [5 5]\n",
      "   [5 5]]\n",
      "\n",
      "  [[5 5]\n",
      "   [5 5]\n",
      "   [5 5]\n",
      "   [5 5]\n",
      "   [5 5]]\n",
      "\n",
      "  [[5 5]\n",
      "   [5 5]\n",
      "   [5 5]\n",
      "   [5 5]\n",
      "   [5 5]]\n",
      "\n",
      "  [[5 5]\n",
      "   [5 5]\n",
      "   [5 5]\n",
      "   [5 5]\n",
      "   [5 5]]\n",
      "\n",
      "  [[5 5]\n",
      "   [5 5]\n",
      "   [5 5]\n",
      "   [5 5]\n",
      "   [5 5]]]]\n"
     ]
    }
   ],
   "source": [
    "# Eliminate all length-1 dimensions. See the function squeeze.\n",
    "list5 = np.squeeze(list4)\n",
    "print(list5)\n",
    "    "
   ]
  },
  {
   "cell_type": "code",
   "execution_count": 44,
   "metadata": {},
   "outputs": [
    {
     "name": "stdout",
     "output_type": "stream",
     "text": [
      "[[5 5 5 5 5 5 5 5 5 5 5 5 5 5 5 5 5 5 5 5 5 5 5 5 5]\n",
      " [5 5 5 5 5 5 5 5 5 5 5 5 5 5 5 5 5 5 5 5 5 5 5 5 5]\n",
      " [5 5 5 5 5 5 5 5 5 5 5 5 5 5 5 5 5 5 5 5 5 5 5 5 5]\n",
      " [5 5 5 5 5 5 5 5 5 5 5 5 5 5 5 5 5 5 5 5 5 5 5 5 5]]\n"
     ]
    }
   ],
   "source": [
    "# Reshape the resulting array from shape (2,5,3,2) to only 2D array\n",
    "list6 = np.reshape(list5, (4, 25))\n",
    "print(list6)\n",
    "    "
   ]
  },
  {
   "cell_type": "code",
   "execution_count": 46,
   "metadata": {},
   "outputs": [
    {
     "name": "stdout",
     "output_type": "stream",
     "text": [
      "[[[[10.85947942 26.66367867 19.9493728 ]\n",
      "   [21.24323432 16.33470183 18.26207615]\n",
      "   [27.59221265 22.71248061 21.77173199]\n",
      "   [18.22396586 25.3739825  19.07607802]\n",
      "   [20.42762304 19.43255351 25.58564071]\n",
      "   [25.85781641 20.08066529 23.66970338]\n",
      "   [22.99050527 12.80114359 19.28426682]\n",
      "   [24.33569725 20.92221264 16.83733662]\n",
      "   [22.34164675 21.81768736 21.60685951]\n",
      "   [16.02224734 16.74983561 21.73716869]\n",
      "   [20.01018681 20.69649622 15.85788336]\n",
      "   [23.08768321 15.61452067 22.77185559]]\n",
      "\n",
      "  [[24.12608247 22.33446087 27.98502672]\n",
      "   [15.79885613 26.19037472 19.8359439 ]\n",
      "   [27.93060916 19.26011332 20.69206083]\n",
      "   [26.30779239 25.81975768 19.53130196]\n",
      "   [21.3383548  28.88832769 18.19001274]\n",
      "   [24.83951388 17.40604009 19.95352946]\n",
      "   [22.92368551 34.05463747 20.64825029]\n",
      "   [22.71090328 17.84066873 23.00362287]\n",
      "   [18.15727732 22.88725323 21.52596002]\n",
      "   [13.17341639 21.69334443 23.2014715 ]\n",
      "   [22.22393619 27.82507279 25.29416379]\n",
      "   [16.81857841 23.40803148 27.71778826]]\n",
      "\n",
      "  [[24.4606987  21.12483008 22.65333551]\n",
      "   [22.95906472 20.09203273 18.67007988]\n",
      "   [21.30527453 24.47929403 15.59805907]\n",
      "   [19.57866652 17.14734408 10.52193676]\n",
      "   [23.92461053 24.67900817 15.56735782]\n",
      "   [15.96374947 24.21863443 12.86295362]\n",
      "   [27.0070991  16.60727352 19.52636932]\n",
      "   [21.04275791 27.51855129 16.29359303]\n",
      "   [13.27744944 20.99516331 14.16559488]\n",
      "   [20.15877532 25.42267852 23.69457851]\n",
      "   [21.49323548 21.19840377 22.27083981]\n",
      "   [24.95118804 13.39871169 20.62395071]]]\n",
      "\n",
      "\n",
      " [[[20.30958944 25.41848299 24.75693902]\n",
      "   [21.82522702 18.1849503  17.03660632]\n",
      "   [19.166637   11.4898872  20.04935064]\n",
      "   [ 9.80089536 17.99623434 11.58788292]\n",
      "   [23.54286219 23.38746845 18.66801579]\n",
      "   [27.34187861 16.75042777 26.83319523]\n",
      "   [28.42755223 16.73115971 20.28252347]\n",
      "   [32.13282905 14.9428291  14.38866067]\n",
      "   [17.30558476 18.88015764 22.7566501 ]\n",
      "   [10.84276565 29.81455446 15.41201733]\n",
      "   [13.89266524 23.65817311 21.42084049]\n",
      "   [20.83550668 19.99119812 25.14398254]]\n",
      "\n",
      "  [[20.67218412 26.7342765  19.26414918]\n",
      "   [22.76256195 20.45113545 21.87900992]\n",
      "   [20.6963267  19.11812587 27.84636387]\n",
      "   [15.09193301 26.10784101 21.16075834]\n",
      "   [18.92473413  5.82697038 19.7559123 ]\n",
      "   [25.7191309  17.33979134 19.34124215]\n",
      "   [21.83159842 10.44457358 25.04778115]\n",
      "   [29.6865194  23.60228322 23.08646577]\n",
      "   [20.95244731 23.33565087 18.54463916]\n",
      "   [24.66126396 18.7995682  19.71325808]\n",
      "   [20.24618165 26.82992721 13.37315377]\n",
      "   [21.01611912 24.68614847 23.79692791]]\n",
      "\n",
      "  [[20.37187993 22.3233035  14.28127737]\n",
      "   [20.37594229 15.02325224 29.84523224]\n",
      "   [25.88620162 13.71735036 15.75487014]\n",
      "   [21.37122596 28.29729228 16.03248458]\n",
      "   [19.68732681 16.8176251  21.05780578]\n",
      "   [22.17675995 21.89224377 18.6114972 ]\n",
      "   [21.54676281 24.21066264 24.39391328]\n",
      "   [21.06383194 16.5351128  28.4717214 ]\n",
      "   [25.50394628 15.14740115 28.13038749]\n",
      "   [20.0355473  30.58303593 22.85094839]\n",
      "   [16.08268189 23.49000296 18.6242694 ]\n",
      "   [22.64732325 20.77166213 27.06258359]]]\n",
      "\n",
      "\n",
      " [[[19.95662297 20.18116862 23.33528541]\n",
      "   [24.56574318 23.765837   26.9929352 ]\n",
      "   [18.07841528 15.96596841 28.77856411]\n",
      "   [17.03826806 19.51207251 20.07840176]\n",
      "   [14.84204781 18.5658416  23.31499623]\n",
      "   [22.65044325 12.49925508 23.93782103]\n",
      "   [23.72805845 23.73062001 23.1002486 ]\n",
      "   [21.62016343 22.02568271 22.46880267]\n",
      "   [20.63826056 14.90439368 14.69644372]\n",
      "   [20.19616002 29.49807732  7.43560772]\n",
      "   [20.41768952 24.13451803 29.61458022]\n",
      "   [18.95428784 27.04564101 23.96896877]]\n",
      "\n",
      "  [[17.75420091 19.69701551 23.40944556]\n",
      "   [25.09090368 19.98076323 16.42588503]\n",
      "   [20.82857467 21.48464624 20.04959858]\n",
      "   [12.89709531 26.77826296 36.64338788]\n",
      "   [17.13428124 16.1490035  18.56870453]\n",
      "   [21.06022569 19.04732976 20.3420821 ]\n",
      "   [23.53294726 23.38097564 10.80584899]\n",
      "   [23.33112491 16.05587206 27.2342482 ]\n",
      "   [20.16750636 16.13011573 22.91966732]\n",
      "   [19.88936302 25.72020522 13.37899698]\n",
      "   [22.00708401 23.17381142 20.64184937]\n",
      "   [20.92726192 15.25426316 15.57003309]]\n",
      "\n",
      "  [[15.52159045 24.08982715 18.8797755 ]\n",
      "   [19.32007149 27.69902521 21.65106337]\n",
      "   [21.02871984 23.03402294 18.54539166]\n",
      "   [12.88500158 13.54990145 29.71162586]\n",
      "   [16.59327932 18.16009701 24.69786251]\n",
      "   [21.36839372 18.24552998 20.1825064 ]\n",
      "   [20.8039871  29.63414226 24.8608649 ]\n",
      "   [17.33907468 24.13822386 17.85436715]\n",
      "   [16.08274141 23.24173062 25.62389324]\n",
      "   [15.28169108 17.81414208 18.72433979]\n",
      "   [26.88962931 17.47149063 23.082433  ]\n",
      "   [16.14836386 17.11176547 29.49943582]]]]\n",
      "list7.mean() =  20.889156083573297\n",
      "list7.std() =  4.601952778098382\n",
      "list7.var() =  21.177969371847418\n",
      "list7.max() =  36.64338787614206\n",
      "list7.min() =  5.826970375575328\n"
     ]
    }
   ],
   "source": [
    "# # Calculate the mean, std, var, max, min, of an array with shape (3,3,12,3) containing floats drawn\n",
    "# from a normal distribution with mean 21 and sigma 4.5. see the np.random.normal.\n",
    "list7 = np.random.normal(21, 4.5, (3,3,12,3))\n",
    "print(list7)\n",
    "print(\"list7.mean() = \", list7.mean())\n",
    "print(\"list7.std() = \", list7.std())\n",
    "print(\"list7.var() = \", list7.var())\n",
    "print(\"list7.max() = \", list7.max())\n",
    "print(\"list7.min() = \", list7.min())\n"
   ]
  },
  {
   "cell_type": "code",
   "execution_count": 47,
   "metadata": {},
   "outputs": [
    {
     "name": "stdout",
     "output_type": "stream",
     "text": [
      "list7.mean(axis=1) =  [[[19.8154202  23.37432321 23.52924501]\n",
      "  [20.00038506 20.87236976 18.92269998]\n",
      "  [25.60936545 22.15062932 19.35395063]\n",
      "  [21.37014159 22.78036142 16.37643891]\n",
      "  [21.89686279 24.33329646 19.78100376]\n",
      "  [22.22035992 20.5684466  18.82872882]\n",
      "  [24.30709663 21.15435152 19.81962881]\n",
      "  [22.69645281 22.09381089 18.71151751]\n",
      "  [17.92545783 21.90003463 19.09947147]\n",
      "  [16.45147968 21.28861952 22.87773957]\n",
      "  [21.24245283 23.23999093 21.14096232]\n",
      "  [21.61914989 17.47375461 23.70453152]]\n",
      "\n",
      " [[20.45121783 24.82535433 19.43412186]\n",
      "  [21.65457709 17.88644599 22.92028282]\n",
      "  [21.91638844 14.77512114 21.21686155]\n",
      "  [15.42135145 24.13378921 16.26037528]\n",
      "  [20.71830771 15.34402131 19.82724462]\n",
      "  [25.07925649 18.66082096 21.59531153]\n",
      "  [23.93530449 17.12879864 23.24140596]\n",
      "  [27.6277268  18.36007504 21.98228261]\n",
      "  [21.25399278 19.12106988 23.14389225]\n",
      "  [18.51319231 26.39905286 19.32540793]\n",
      "  [16.74050959 24.65936776 17.80608789]\n",
      "  [21.49964968 21.81633624 25.33449801]]\n",
      "\n",
      " [[17.74413811 21.32267043 21.87483549]\n",
      "  [22.99223945 23.81520848 21.6899612 ]\n",
      "  [19.97856993 20.16154586 22.45785145]\n",
      "  [14.27345498 19.94674564 28.8111385 ]\n",
      "  [16.18986946 17.6249807  22.19385442]\n",
      "  [21.69302089 16.59737161 21.48746984]\n",
      "  [22.68833094 25.58191263 19.5889875 ]\n",
      "  [20.76345434 20.73992621 22.51913934]\n",
      "  [18.96283611 18.09208001 21.08000143]\n",
      "  [18.45573804 24.34414154 13.17964816]\n",
      "  [23.10480095 21.59327336 24.44628753]\n",
      "  [18.67663788 19.80388988 23.01281256]]]\n",
      "list7.std(axis=1) =  [[[6.33427967 2.37777153 3.33849732]\n",
      "  [3.05239277 4.06122038 0.6668971 ]\n",
      "  [3.04658574 2.16744388 2.69214456]\n",
      "  [3.53497761 3.98730002 4.14392759]\n",
      "  [1.48125595 3.868036   4.24185002]\n",
      "  [4.44358082 2.80253556 4.48295605]\n",
      "  [1.90938494 9.25327651 0.59420175]\n",
      "  [1.34437569 4.03689935 3.04308403]\n",
      "  [3.70407194 0.77463405 3.48893392]\n",
      "  [2.86786682 3.55222022 0.83125009]\n",
      "  [0.92099241 3.24861094 3.93432031]\n",
      "  [3.47872366 4.29256596 2.97019035]]\n",
      "\n",
      " [[0.15830267 1.84896762 4.27835948]\n",
      "  [0.98177709 2.22595413 5.2806825 ]\n",
      "  [2.87570863 3.20277646 5.00488871]\n",
      "  [4.72930755 4.43099756 3.91143082]\n",
      "  [2.02138037 7.24437272 0.97693066]\n",
      "  [2.15664742 2.29759401 3.71570551]\n",
      "  [3.17862655 5.62701161 2.10920601]\n",
      "  [4.74760603 3.76336745 5.80215852]\n",
      "  [3.35375214 3.34717666 3.92293344]\n",
      "  [5.7431639  5.38279768 3.04928895]\n",
      "  [2.63519078 1.53635207 3.33600371]\n",
      "  [0.81487061 2.05412556 1.33998728]]\n",
      "\n",
      " [[1.81060842 1.96663305 2.11804362]\n",
      "  [2.60545089 3.15116065 4.31406785]\n",
      "  [1.34609442 3.03340234 4.51140894]\n",
      "  [1.95502431 5.40919542 6.79253754]\n",
      "  [0.97831084 1.05673671 2.62480013]\n",
      "  [0.68859038 2.91623502 1.73388423]\n",
      "  [1.33481107 2.86891228 6.2520708 ]\n",
      "  [2.52013615 3.42257018 3.82948582]\n",
      "  [2.04558248 3.67557476 4.64690336]\n",
      "  [2.24788222 4.86817893 4.61076081]\n",
      "  [2.75381408 2.94081156 3.78792372]\n",
      "  [1.9608304  5.1765367  5.72670593]]]\n",
      "list7.var(axis=1) =  [[[4.01230989e+01 5.65379747e+00 1.11455644e+01]\n",
      "  [9.31710165e+00 1.64935110e+01 4.44751739e-01]\n",
      "  [9.28168466e+00 4.69781298e+00 7.24764234e+00]\n",
      "  [1.24960667e+01 1.58985614e+01 1.71721359e+01]\n",
      "  [2.19411918e+00 1.49617025e+01 1.79932916e+01]\n",
      "  [1.97454105e+01 7.85420557e+00 2.00968950e+01]\n",
      "  [3.64575083e+00 8.56231262e+01 3.53075718e-01]\n",
      "  [1.80734599e+00 1.62965564e+01 9.26036042e+00]\n",
      "  [1.37201489e+01 6.00057914e-01 1.21726599e+01]\n",
      "  [8.22466010e+00 1.26182685e+01 6.90976712e-01]\n",
      "  [8.48227022e-01 1.05534730e+01 1.54788763e+01]\n",
      "  [1.21015183e+01 1.84261225e+01 8.82203073e+00]]\n",
      "\n",
      " [[2.50597346e-02 3.41868127e+00 1.83043598e+01]\n",
      "  [9.63886264e-01 4.95487177e+00 2.78856076e+01]\n",
      "  [8.26970011e+00 1.02577771e+01 2.50489110e+01]\n",
      "  [2.23663499e+01 1.96337393e+01 1.52992911e+01]\n",
      "  [4.08597860e+00 5.24809362e+01 9.54393520e-01]\n",
      "  [4.65112810e+00 5.27893826e+00 1.38064675e+01]\n",
      "  [1.01036668e+01 3.16632597e+01 4.44875001e+00]\n",
      "  [2.25397630e+01 1.41629345e+01 3.36650435e+01]\n",
      "  [1.12476534e+01 1.12035916e+01 1.53894068e+01]\n",
      "  [3.29839316e+01 2.89745109e+01 9.29816309e+00]\n",
      "  [6.94423044e+00 2.36037769e+00 1.11289207e+01]\n",
      "  [6.64014114e-01 4.21943180e+00 1.79556591e+00]]\n",
      "\n",
      " [[3.27830286e+00 3.86764554e+00 4.48610879e+00]\n",
      "  [6.78837434e+00 9.92981344e+00 1.86111814e+01]\n",
      "  [1.81197019e+00 9.20152977e+00 2.03528107e+01]\n",
      "  [3.82212005e+00 2.92593951e+01 4.61385663e+01]\n",
      "  [9.57092105e-01 1.11669247e+00 6.88957573e+00]\n",
      "  [4.74156716e-01 8.50442667e+00 3.00635454e+00]\n",
      "  [1.78172059e+00 8.23065767e+00 3.90883893e+01]\n",
      "  [6.35108622e+00 1.17139866e+01 1.46649617e+01]\n",
      "  [4.18440766e+00 1.35098498e+01 2.15937108e+01]\n",
      "  [5.05297446e+00 2.36991661e+01 2.12591153e+01]\n",
      "  [7.58349199e+00 8.64837262e+00 1.43483661e+01]\n",
      "  [3.84485586e+00 2.67965322e+01 3.27951608e+01]]]\n",
      "list7.max(axis=1) =  [[[24.4606987  26.66367867 27.98502672]\n",
      "  [22.95906472 26.19037472 19.8359439 ]\n",
      "  [27.93060916 24.47929403 21.77173199]\n",
      "  [26.30779239 25.81975768 19.53130196]\n",
      "  [23.92461053 28.88832769 25.58564071]\n",
      "  [25.85781641 24.21863443 23.66970338]\n",
      "  [27.0070991  34.05463747 20.64825029]\n",
      "  [24.33569725 27.51855129 23.00362287]\n",
      "  [22.34164675 22.88725323 21.60685951]\n",
      "  [20.15877532 25.42267852 23.69457851]\n",
      "  [22.22393619 27.82507279 25.29416379]\n",
      "  [24.95118804 23.40803148 27.71778826]]\n",
      "\n",
      " [[20.67218412 26.7342765  24.75693902]\n",
      "  [22.76256195 20.45113545 29.84523224]\n",
      "  [25.88620162 19.11812587 27.84636387]\n",
      "  [21.37122596 28.29729228 21.16075834]\n",
      "  [23.54286219 23.38746845 21.05780578]\n",
      "  [27.34187861 21.89224377 26.83319523]\n",
      "  [28.42755223 24.21066264 25.04778115]\n",
      "  [32.13282905 23.60228322 28.4717214 ]\n",
      "  [25.50394628 23.33565087 28.13038749]\n",
      "  [24.66126396 30.58303593 22.85094839]\n",
      "  [20.24618165 26.82992721 21.42084049]\n",
      "  [22.64732325 24.68614847 27.06258359]]\n",
      "\n",
      " [[19.95662297 24.08982715 23.40944556]\n",
      "  [25.09090368 27.69902521 26.9929352 ]\n",
      "  [21.02871984 23.03402294 28.77856411]\n",
      "  [17.03826806 26.77826296 36.64338788]\n",
      "  [17.13428124 18.5658416  24.69786251]\n",
      "  [22.65044325 19.04732976 23.93782103]\n",
      "  [23.72805845 29.63414226 24.8608649 ]\n",
      "  [23.33112491 24.13822386 27.2342482 ]\n",
      "  [20.63826056 23.24173062 25.62389324]\n",
      "  [20.19616002 29.49807732 18.72433979]\n",
      "  [26.88962931 24.13451803 29.61458022]\n",
      "  [20.92726192 27.04564101 29.49943582]]]\n",
      "list7.min(axis=1) =  [[[10.85947942 21.12483008 19.9493728 ]\n",
      "  [15.79885613 16.33470183 18.26207615]\n",
      "  [21.30527453 19.26011332 15.59805907]\n",
      "  [18.22396586 17.14734408 10.52193676]\n",
      "  [20.42762304 19.43255351 15.56735782]\n",
      "  [15.96374947 17.40604009 12.86295362]\n",
      "  [22.92368551 12.80114359 19.28426682]\n",
      "  [21.04275791 17.84066873 16.29359303]\n",
      "  [13.27744944 20.99516331 14.16559488]\n",
      "  [13.17341639 16.74983561 21.73716869]\n",
      "  [20.01018681 20.69649622 15.85788336]\n",
      "  [16.81857841 13.39871169 20.62395071]]\n",
      "\n",
      " [[20.30958944 22.3233035  14.28127737]\n",
      "  [20.37594229 15.02325224 17.03660632]\n",
      "  [19.166637   11.4898872  15.75487014]\n",
      "  [ 9.80089536 17.99623434 11.58788292]\n",
      "  [18.92473413  5.82697038 18.66801579]\n",
      "  [22.17675995 16.75042777 18.6114972 ]\n",
      "  [21.54676281 10.44457358 20.28252347]\n",
      "  [21.06383194 14.9428291  14.38866067]\n",
      "  [17.30558476 15.14740115 18.54463916]\n",
      "  [10.84276565 18.7995682  15.41201733]\n",
      "  [13.89266524 23.49000296 13.37315377]\n",
      "  [20.83550668 19.99119812 23.79692791]]\n",
      "\n",
      " [[15.52159045 19.69701551 18.8797755 ]\n",
      "  [19.32007149 19.98076323 16.42588503]\n",
      "  [18.07841528 15.96596841 18.54539166]\n",
      "  [12.88500158 13.54990145 20.07840176]\n",
      "  [14.84204781 16.1490035  18.56870453]\n",
      "  [21.06022569 12.49925508 20.1825064 ]\n",
      "  [20.8039871  23.38097564 10.80584899]\n",
      "  [17.33907468 16.05587206 17.85436715]\n",
      "  [16.08274141 14.90439368 14.69644372]\n",
      "  [15.28169108 17.81414208  7.43560772]\n",
      "  [20.41768952 17.47149063 20.64184937]\n",
      "  [16.14836386 15.25426316 15.57003309]]]\n"
     ]
    }
   ],
   "source": [
    "# Do the same but not on all elements but only on the 2nd dimension. \n",
    "# Hint: use axis=1\n",
    "\n",
    "print(\"list7.mean(axis=1) = \", list7.mean(axis=1))\n",
    "print(\"list7.std(axis=1) = \", list7.std(axis=1))\n",
    "print(\"list7.var(axis=1) = \", list7.var(axis=1))\n",
    "print(\"list7.max(axis=1) = \", list7.max(axis=1))\n",
    "print(\"list7.min(axis=1) = \", list7.min(axis=1))\n",
    "\n",
    "            "
   ]
  },
  {
   "cell_type": "code",
   "execution_count": 48,
   "metadata": {},
   "outputs": [
    {
     "name": "stdout",
     "output_type": "stream",
     "text": [
      "[10.85947942 26.66367867 19.9493728  21.24323432 16.33470183 18.26207615\n",
      " 27.59221265 22.71248061 21.77173199 18.22396586 25.3739825  19.07607802\n",
      " 20.42762304 19.43255351 25.58564071 25.85781641 20.08066529 23.66970338\n",
      " 22.99050527 12.80114359 19.28426682 24.33569725 20.92221264 16.83733662\n",
      " 22.34164675 21.81768736 21.60685951 16.02224734 16.74983561 21.73716869\n",
      " 20.01018681 20.69649622 15.85788336 23.08768321 15.61452067 22.77185559\n",
      " 24.12608247 22.33446087 27.98502672 15.79885613 26.19037472 19.8359439\n",
      " 27.93060916 19.26011332 20.69206083 26.30779239 25.81975768 19.53130196\n",
      " 21.3383548  28.88832769 18.19001274 24.83951388 17.40604009 19.95352946\n",
      " 22.92368551 34.05463747 20.64825029 22.71090328 17.84066873 23.00362287\n",
      " 18.15727732 22.88725323 21.52596002 13.17341639 21.69334443 23.2014715\n",
      " 22.22393619 27.82507279 25.29416379 16.81857841 23.40803148 27.71778826\n",
      " 24.4606987  21.12483008 22.65333551 22.95906472 20.09203273 18.67007988\n",
      " 21.30527453 24.47929403 15.59805907 19.57866652 17.14734408 10.52193676\n",
      " 23.92461053 24.67900817 15.56735782 15.96374947 24.21863443 12.86295362\n",
      " 27.0070991  16.60727352 19.52636932 21.04275791 27.51855129 16.29359303\n",
      " 13.27744944 20.99516331 14.16559488 20.15877532 25.42267852 23.69457851\n",
      " 21.49323548 21.19840377 22.27083981 24.95118804 13.39871169 20.62395071\n",
      " 20.30958944 25.41848299 24.75693902 21.82522702 18.1849503  17.03660632\n",
      " 19.166637   11.4898872  20.04935064  9.80089536 17.99623434 11.58788292\n",
      " 23.54286219 23.38746845 18.66801579 27.34187861 16.75042777 26.83319523\n",
      " 28.42755223 16.73115971 20.28252347 32.13282905 14.9428291  14.38866067\n",
      " 17.30558476 18.88015764 22.7566501  10.84276565 29.81455446 15.41201733\n",
      " 13.89266524 23.65817311 21.42084049 20.83550668 19.99119812 25.14398254\n",
      " 20.67218412 26.7342765  19.26414918 22.76256195 20.45113545 21.87900992\n",
      " 20.6963267  19.11812587 27.84636387 15.09193301 26.10784101 21.16075834\n",
      " 18.92473413  5.82697038 19.7559123  25.7191309  17.33979134 19.34124215\n",
      " 21.83159842 10.44457358 25.04778115 29.6865194  23.60228322 23.08646577\n",
      " 20.95244731 23.33565087 18.54463916 24.66126396 18.7995682  19.71325808\n",
      " 20.24618165 26.82992721 13.37315377 21.01611912 24.68614847 23.79692791\n",
      " 20.37187993 22.3233035  14.28127737 20.37594229 15.02325224 29.84523224\n",
      " 25.88620162 13.71735036 15.75487014 21.37122596 28.29729228 16.03248458\n",
      " 19.68732681 16.8176251  21.05780578 22.17675995 21.89224377 18.6114972\n",
      " 21.54676281 24.21066264 24.39391328 21.06383194 16.5351128  28.4717214\n",
      " 25.50394628 15.14740115 28.13038749 20.0355473  30.58303593 22.85094839\n",
      " 16.08268189 23.49000296 18.6242694  22.64732325 20.77166213 27.06258359\n",
      " 19.95662297 20.18116862 23.33528541 24.56574318 23.765837   26.9929352\n",
      " 18.07841528 15.96596841 28.77856411 17.03826806 19.51207251 20.07840176\n",
      " 14.84204781 18.5658416  23.31499623 22.65044325 12.49925508 23.93782103\n",
      " 23.72805845 23.73062001 23.1002486  21.62016343 22.02568271 22.46880267\n",
      " 20.63826056 14.90439368 14.69644372 20.19616002 29.49807732  7.43560772\n",
      " 20.41768952 24.13451803 29.61458022 18.95428784 27.04564101 23.96896877\n",
      " 17.75420091 19.69701551 23.40944556 25.09090368 19.98076323 16.42588503\n",
      " 20.82857467 21.48464624 20.04959858 12.89709531 26.77826296 36.64338788\n",
      " 17.13428124 16.1490035  18.56870453 21.06022569 19.04732976 20.3420821\n",
      " 23.53294726 23.38097564 10.80584899 23.33112491 16.05587206 27.2342482\n",
      " 20.16750636 16.13011573 22.91966732 19.88936302 25.72020522 13.37899698\n",
      " 22.00708401 23.17381142 20.64184937 20.92726192 15.25426316 15.57003309\n",
      " 15.52159045 24.08982715 18.8797755  19.32007149 27.69902521 21.65106337\n",
      " 21.02871984 23.03402294 18.54539166 12.88500158 13.54990145 29.71162586\n",
      " 16.59327932 18.16009701 24.69786251 21.36839372 18.24552998 20.1825064\n",
      " 20.8039871  29.63414226 24.8608649  17.33907468 24.13822386 17.85436715\n",
      " 16.08274141 23.24173062 25.62389324 15.28169108 17.81414208 18.72433979\n",
      " 26.88962931 17.47149063 23.082433   16.14836386 17.11176547 29.49943582]\n"
     ]
    }
   ],
   "source": [
    "# Transform the array such that it is only 1d. See the function Flatten or ravel\n",
    "list8 = list7.ravel()\n",
    "print(list8)\n"
   ]
  },
  {
   "cell_type": "code",
   "execution_count": 51,
   "metadata": {},
   "outputs": [
    {
     "name": "stdout",
     "output_type": "stream",
     "text": [
      "[19.9493728  21.24323432 16.33470183 18.26207615 22.71248061 21.77173199\n",
      " 18.22396586 25.3739825  19.07607802 20.42762304 19.43255351 25.58564071\n",
      " 25.85781641 20.08066529 23.66970338 22.99050527 19.28426682 24.33569725\n",
      " 20.92221264 16.83733662 22.34164675 21.81768736 21.60685951 16.02224734\n",
      " 16.74983561 21.73716869 20.01018681 20.69649622 15.85788336 23.08768321\n",
      " 15.61452067 22.77185559 24.12608247 22.33446087 15.79885613 19.8359439\n",
      " 19.26011332 20.69206083 25.81975768 19.53130196 21.3383548  18.19001274\n",
      " 24.83951388 17.40604009 19.95352946 22.92368551 20.64825029 22.71090328\n",
      " 17.84066873 23.00362287 18.15727732 22.88725323 21.52596002 21.69334443\n",
      " 23.2014715  22.22393619 25.29416379 16.81857841 23.40803148 24.4606987\n",
      " 21.12483008 22.65333551 22.95906472 20.09203273 18.67007988 21.30527453\n",
      " 24.47929403 15.59805907 19.57866652 17.14734408 23.92461053 24.67900817\n",
      " 15.56735782 15.96374947 24.21863443 16.60727352 19.52636932 21.04275791\n",
      " 16.29359303 20.99516331 20.15877532 25.42267852 23.69457851 21.49323548\n",
      " 21.19840377 22.27083981 24.95118804 20.62395071 20.30958944 25.41848299\n",
      " 24.75693902 21.82522702 18.1849503  17.03660632 19.166637   20.04935064\n",
      " 17.99623434 23.54286219 23.38746845 18.66801579 16.75042777 16.73115971\n",
      " 20.28252347 17.30558476 18.88015764 22.7566501  15.41201733 23.65817311\n",
      " 21.42084049 20.83550668 19.99119812 25.14398254 20.67218412 19.26414918\n",
      " 22.76256195 20.45113545 21.87900992 20.6963267  19.11812587 15.09193301\n",
      " 21.16075834 18.92473413 19.7559123  25.7191309  17.33979134 19.34124215\n",
      " 21.83159842 25.04778115 23.60228322 23.08646577 20.95244731 23.33565087\n",
      " 18.54463916 24.66126396 18.7995682  19.71325808 20.24618165 21.01611912\n",
      " 24.68614847 23.79692791 20.37187993 22.3233035  20.37594229 15.02325224\n",
      " 25.88620162 15.75487014 21.37122596 16.03248458 19.68732681 16.8176251\n",
      " 21.05780578 22.17675995 21.89224377 18.6114972  21.54676281 24.21066264\n",
      " 24.39391328 21.06383194 16.5351128  25.50394628 15.14740115 20.0355473\n",
      " 22.85094839 16.08268189 23.49000296 18.6242694  22.64732325 20.77166213\n",
      " 19.95662297 20.18116862 23.33528541 24.56574318 23.765837   18.07841528\n",
      " 15.96596841 17.03826806 19.51207251 20.07840176 18.5658416  23.31499623\n",
      " 22.65044325 23.93782103 23.72805845 23.73062001 23.1002486  21.62016343\n",
      " 22.02568271 22.46880267 20.63826056 20.19616002 20.41768952 24.13451803\n",
      " 18.95428784 23.96896877 17.75420091 19.69701551 23.40944556 25.09090368\n",
      " 19.98076323 16.42588503 20.82857467 21.48464624 20.04959858 17.13428124\n",
      " 16.1490035  18.56870453 21.06022569 19.04732976 20.3420821  23.53294726\n",
      " 23.38097564 23.33112491 16.05587206 20.16750636 16.13011573 22.91966732\n",
      " 19.88936302 25.72020522 22.00708401 23.17381142 20.64184937 20.92726192\n",
      " 15.25426316 15.57003309 15.52159045 24.08982715 18.8797755  19.32007149\n",
      " 21.65106337 21.02871984 23.03402294 18.54539166 16.59327932 18.16009701\n",
      " 24.69786251 21.36839372 18.24552998 20.1825064  20.8039871  24.8608649\n",
      " 17.33907468 24.13822386 17.85436715 16.08274141 23.24173062 25.62389324\n",
      " 15.28169108 17.81414208 18.72433979 17.47149063 23.082433   16.14836386\n",
      " 17.11176547]\n"
     ]
    }
   ],
   "source": [
    "# Remove all values smaller 15 and larger 26.\n",
    "list9 = list8[(list8 > 15) & (list8 < 26)]\n",
    "print(list9)\n",
    "\n",
    "        "
   ]
  },
  {
   "cell_type": "code",
   "execution_count": 52,
   "metadata": {},
   "outputs": [
    {
     "name": "stdout",
     "output_type": "stream",
     "text": [
      "[15.         26.         19.9493728  21.24323432 16.33470183 18.26207615\n",
      " 26.         22.71248061 21.77173199 18.22396586 25.3739825  19.07607802\n",
      " 20.42762304 19.43255351 25.58564071 25.85781641 20.08066529 23.66970338\n",
      " 22.99050527 15.         19.28426682 24.33569725 20.92221264 16.83733662\n",
      " 22.34164675 21.81768736 21.60685951 16.02224734 16.74983561 21.73716869\n",
      " 20.01018681 20.69649622 15.85788336 23.08768321 15.61452067 22.77185559\n",
      " 24.12608247 22.33446087 26.         15.79885613 26.         19.8359439\n",
      " 26.         19.26011332 20.69206083 26.         25.81975768 19.53130196\n",
      " 21.3383548  26.         18.19001274 24.83951388 17.40604009 19.95352946\n",
      " 22.92368551 26.         20.64825029 22.71090328 17.84066873 23.00362287\n",
      " 18.15727732 22.88725323 21.52596002 15.         21.69334443 23.2014715\n",
      " 22.22393619 26.         25.29416379 16.81857841 23.40803148 26.\n",
      " 24.4606987  21.12483008 22.65333551 22.95906472 20.09203273 18.67007988\n",
      " 21.30527453 24.47929403 15.59805907 19.57866652 17.14734408 15.\n",
      " 23.92461053 24.67900817 15.56735782 15.96374947 24.21863443 15.\n",
      " 26.         16.60727352 19.52636932 21.04275791 26.         16.29359303\n",
      " 15.         20.99516331 15.         20.15877532 25.42267852 23.69457851\n",
      " 21.49323548 21.19840377 22.27083981 24.95118804 15.         20.62395071\n",
      " 20.30958944 25.41848299 24.75693902 21.82522702 18.1849503  17.03660632\n",
      " 19.166637   15.         20.04935064 15.         17.99623434 15.\n",
      " 23.54286219 23.38746845 18.66801579 26.         16.75042777 26.\n",
      " 26.         16.73115971 20.28252347 26.         15.         15.\n",
      " 17.30558476 18.88015764 22.7566501  15.         26.         15.41201733\n",
      " 15.         23.65817311 21.42084049 20.83550668 19.99119812 25.14398254\n",
      " 20.67218412 26.         19.26414918 22.76256195 20.45113545 21.87900992\n",
      " 20.6963267  19.11812587 26.         15.09193301 26.         21.16075834\n",
      " 18.92473413 15.         19.7559123  25.7191309  17.33979134 19.34124215\n",
      " 21.83159842 15.         25.04778115 26.         23.60228322 23.08646577\n",
      " 20.95244731 23.33565087 18.54463916 24.66126396 18.7995682  19.71325808\n",
      " 20.24618165 26.         15.         21.01611912 24.68614847 23.79692791\n",
      " 20.37187993 22.3233035  15.         20.37594229 15.02325224 26.\n",
      " 25.88620162 15.         15.75487014 21.37122596 26.         16.03248458\n",
      " 19.68732681 16.8176251  21.05780578 22.17675995 21.89224377 18.6114972\n",
      " 21.54676281 24.21066264 24.39391328 21.06383194 16.5351128  26.\n",
      " 25.50394628 15.14740115 26.         20.0355473  26.         22.85094839\n",
      " 16.08268189 23.49000296 18.6242694  22.64732325 20.77166213 26.\n",
      " 19.95662297 20.18116862 23.33528541 24.56574318 23.765837   26.\n",
      " 18.07841528 15.96596841 26.         17.03826806 19.51207251 20.07840176\n",
      " 15.         18.5658416  23.31499623 22.65044325 15.         23.93782103\n",
      " 23.72805845 23.73062001 23.1002486  21.62016343 22.02568271 22.46880267\n",
      " 20.63826056 15.         15.         20.19616002 26.         15.\n",
      " 20.41768952 24.13451803 26.         18.95428784 26.         23.96896877\n",
      " 17.75420091 19.69701551 23.40944556 25.09090368 19.98076323 16.42588503\n",
      " 20.82857467 21.48464624 20.04959858 15.         26.         26.\n",
      " 17.13428124 16.1490035  18.56870453 21.06022569 19.04732976 20.3420821\n",
      " 23.53294726 23.38097564 15.         23.33112491 16.05587206 26.\n",
      " 20.16750636 16.13011573 22.91966732 19.88936302 25.72020522 15.\n",
      " 22.00708401 23.17381142 20.64184937 20.92726192 15.25426316 15.57003309\n",
      " 15.52159045 24.08982715 18.8797755  19.32007149 26.         21.65106337\n",
      " 21.02871984 23.03402294 18.54539166 15.         15.         26.\n",
      " 16.59327932 18.16009701 24.69786251 21.36839372 18.24552998 20.1825064\n",
      " 20.8039871  26.         24.8608649  17.33907468 24.13822386 17.85436715\n",
      " 16.08274141 23.24173062 25.62389324 15.28169108 17.81414208 18.72433979\n",
      " 26.         17.47149063 23.082433   16.14836386 17.11176547 26.        ]\n"
     ]
    }
   ],
   "source": [
    "# Clip all values smaller 15 and larger 26 to NaN. See the function Clip\n",
    "list10 = np.clip(list8, 15, 26)\n",
    "print(list10)\n",
    "\n",
    "        "
   ]
  },
  {
   "cell_type": "code",
   "execution_count": 53,
   "metadata": {},
   "outputs": [
    {
     "name": "stdout",
     "output_type": "stream",
     "text": [
      "list10.sum() =  6744.69646460747\n"
     ]
    }
   ],
   "source": [
    "# Calculate the sum of the resulting array. It should not be NaN!.\n",
    "print(\"list10.sum() = \", list10.sum())\n",
    "\n",
    "        "
   ]
  },
  {
   "cell_type": "code",
   "execution_count": 54,
   "metadata": {},
   "outputs": [
    {
     "name": "stdout",
     "output_type": "stream",
     "text": [
      "[15.         26.         19.9493728  21.24323432 16.33470183 18.26207615\n",
      " 26.         22.71248061 21.77173199 18.22396586 25.3739825  19.07607802\n",
      " 20.42762304 19.43255351 25.58564071 25.85781641 20.08066529 23.66970338\n",
      " 22.99050527 15.         19.28426682 24.33569725 20.92221264 16.83733662\n",
      " 22.34164675 21.81768736 21.60685951 16.02224734 16.74983561 21.73716869\n",
      " 20.01018681 20.69649622 15.85788336 23.08768321 15.61452067 22.77185559\n",
      " 24.12608247 22.33446087 26.         15.79885613 26.         19.8359439\n",
      " 26.         19.26011332 20.69206083 26.         25.81975768 19.53130196\n",
      " 21.3383548  26.         18.19001274 24.83951388 17.40604009 19.95352946\n",
      " 22.92368551 26.         20.64825029 22.71090328 17.84066873 23.00362287\n",
      " 18.15727732 22.88725323 21.52596002 15.         21.69334443 23.2014715\n",
      " 22.22393619 26.         25.29416379 16.81857841 23.40803148 26.\n",
      " 24.4606987  21.12483008 22.65333551 22.95906472 20.09203273 18.67007988\n",
      " 21.30527453 24.47929403 15.59805907 19.57866652 17.14734408 15.\n",
      " 23.92461053 24.67900817 15.56735782 15.96374947 24.21863443 15.\n",
      " 26.         16.60727352 19.52636932 21.04275791 26.         16.29359303\n",
      " 15.         20.99516331 15.         20.15877532 25.42267852 23.69457851\n",
      " 21.49323548 21.19840377 22.27083981 24.95118804 15.         20.62395071\n",
      " 20.30958944 25.41848299 24.75693902 21.82522702 18.1849503  17.03660632\n",
      " 19.166637   15.         20.04935064 15.         17.99623434 15.\n",
      " 23.54286219 23.38746845 18.66801579 26.         16.75042777 26.\n",
      " 26.         16.73115971 20.28252347 26.         15.         15.\n",
      " 17.30558476 18.88015764 22.7566501  15.         26.         15.41201733\n",
      " 15.         23.65817311 21.42084049 20.83550668 19.99119812 25.14398254\n",
      " 20.67218412 26.         19.26414918 22.76256195 20.45113545 21.87900992\n",
      " 20.6963267  19.11812587 26.         15.09193301 26.         21.16075834\n",
      " 18.92473413 15.         19.7559123  25.7191309  17.33979134 19.34124215\n",
      " 21.83159842 15.         25.04778115 26.         23.60228322 23.08646577\n",
      " 20.95244731 23.33565087 18.54463916 24.66126396 18.7995682  19.71325808\n",
      " 20.24618165 26.         15.         21.01611912 24.68614847 23.79692791\n",
      " 20.37187993 22.3233035  15.         20.37594229 15.02325224 26.\n",
      " 25.88620162 15.         15.75487014 21.37122596 26.         16.03248458\n",
      " 19.68732681 16.8176251  21.05780578 22.17675995 21.89224377 18.6114972\n",
      " 21.54676281 24.21066264 24.39391328 21.06383194 16.5351128  26.\n",
      " 25.50394628 15.14740115 26.         20.0355473  26.         22.85094839\n",
      " 16.08268189 23.49000296 18.6242694  22.64732325 20.77166213 26.\n",
      " 19.95662297 20.18116862 23.33528541 24.56574318 23.765837   26.\n",
      " 18.07841528 15.96596841 26.         17.03826806 19.51207251 20.07840176\n",
      " 15.         18.5658416  23.31499623 22.65044325 15.         23.93782103\n",
      " 23.72805845 23.73062001 23.1002486  21.62016343 22.02568271 22.46880267\n",
      " 20.63826056 15.         15.         20.19616002 26.         15.\n",
      " 20.41768952 24.13451803 26.         18.95428784 26.         23.96896877\n",
      " 17.75420091 19.69701551 23.40944556 25.09090368 19.98076323 16.42588503\n",
      " 20.82857467 21.48464624 20.04959858 15.         26.         26.\n",
      " 17.13428124 16.1490035  18.56870453 21.06022569 19.04732976 20.3420821\n",
      " 23.53294726 23.38097564 15.         23.33112491 16.05587206 26.\n",
      " 20.16750636 16.13011573 22.91966732 19.88936302 25.72020522 15.\n",
      " 22.00708401 23.17381142 20.64184937 20.92726192 15.25426316 15.57003309\n",
      " 15.52159045 24.08982715 18.8797755  19.32007149 26.         21.65106337\n",
      " 21.02871984 23.03402294 18.54539166 15.         15.         26.\n",
      " 16.59327932 18.16009701 24.69786251 21.36839372 18.24552998 20.1825064\n",
      " 20.8039871  26.         24.8608649  17.33907468 24.13822386 17.85436715\n",
      " 16.08274141 23.24173062 25.62389324 15.28169108 17.81414208 18.72433979\n",
      " 26.         17.47149063 23.082433   16.14836386 17.11176547 26.        ]\n"
     ]
    }
   ],
   "source": [
    "# Convert the NaN’s to 0.0. See Where\n",
    "list11 = np.where(np.isnan(list10), 0, list10)\n",
    "print(list11)\n",
    "    "
   ]
  },
  {
   "cell_type": "code",
   "execution_count": 55,
   "metadata": {},
   "outputs": [
    {
     "name": "stdout",
     "output_type": "stream",
     "text": [
      "[15.         26.         19.9493728  21.24323432 16.33470183 18.26207615\n",
      " 26.         22.71248061 21.77173199 18.22396586 25.3739825  19.07607802\n",
      " 20.42762304 19.43255351 25.58564071 25.85781641 20.08066529 23.66970338\n",
      " 22.99050527 15.         19.28426682 24.33569725 20.92221264 16.83733662\n",
      " 22.34164675 21.81768736 21.60685951 16.02224734 16.74983561 21.73716869\n",
      " 20.01018681 20.69649622 15.85788336 23.08768321 15.61452067 22.77185559\n",
      " 24.12608247 22.33446087 26.         15.79885613 26.         19.8359439\n",
      " 26.         19.26011332 20.69206083 26.         25.81975768 19.53130196\n",
      " 21.3383548  26.         18.19001274 24.83951388 17.40604009 19.95352946\n",
      " 22.92368551 26.         20.64825029 22.71090328 17.84066873 23.00362287\n",
      " 18.15727732 22.88725323 21.52596002 15.         21.69334443 23.2014715\n",
      " 22.22393619 26.         25.29416379 16.81857841 23.40803148 26.\n",
      " 24.4606987  21.12483008 22.65333551 22.95906472 20.09203273 18.67007988\n",
      " 21.30527453 24.47929403 15.59805907 19.57866652 17.14734408 15.\n",
      " 23.92461053 24.67900817 15.56735782 15.96374947 24.21863443 15.\n",
      " 26.         16.60727352 19.52636932 21.04275791 26.         16.29359303\n",
      " 15.         20.99516331 15.         20.15877532 25.42267852 23.69457851\n",
      " 21.49323548 21.19840377 22.27083981 24.95118804 15.         20.62395071\n",
      " 20.30958944 25.41848299 24.75693902 21.82522702 18.1849503  17.03660632\n",
      " 19.166637   15.         20.04935064 15.         17.99623434 15.\n",
      " 23.54286219 23.38746845 18.66801579 26.         16.75042777 26.\n",
      " 26.         16.73115971 20.28252347 26.         15.         15.\n",
      " 17.30558476 18.88015764 22.7566501  15.         26.         15.41201733\n",
      " 15.         23.65817311 21.42084049 20.83550668 19.99119812 25.14398254\n",
      " 20.67218412 26.         19.26414918 22.76256195 20.45113545 21.87900992\n",
      " 20.6963267  19.11812587 26.         15.09193301 26.         21.16075834\n",
      " 18.92473413 15.         19.7559123  25.7191309  17.33979134 19.34124215\n",
      " 21.83159842 15.         25.04778115 26.         23.60228322 23.08646577\n",
      " 20.95244731 23.33565087 18.54463916 24.66126396 18.7995682  19.71325808\n",
      " 20.24618165 26.         15.         21.01611912 24.68614847 23.79692791\n",
      " 20.37187993 22.3233035  15.         20.37594229 15.02325224 26.\n",
      " 25.88620162 15.         15.75487014 21.37122596 26.         16.03248458\n",
      " 19.68732681 16.8176251  21.05780578 22.17675995 21.89224377 18.6114972\n",
      " 21.54676281 24.21066264 24.39391328 21.06383194 16.5351128  26.\n",
      " 25.50394628 15.14740115 26.         20.0355473  26.         22.85094839\n",
      " 16.08268189 23.49000296 18.6242694  22.64732325 20.77166213 26.\n",
      " 19.95662297 20.18116862 23.33528541 24.56574318 23.765837   26.\n",
      " 18.07841528 15.96596841 26.         17.03826806 19.51207251 20.07840176\n",
      " 15.         18.5658416  23.31499623 22.65044325 15.         23.93782103\n",
      " 23.72805845 23.73062001 23.1002486  21.62016343 22.02568271 22.46880267\n",
      " 20.63826056 15.         15.         20.19616002 26.         15.\n",
      " 20.41768952 24.13451803 26.         18.95428784 26.         23.96896877\n",
      " 17.75420091 19.69701551 23.40944556 25.09090368 19.98076323 16.42588503\n",
      " 20.82857467 21.48464624 20.04959858 15.         26.         26.\n",
      " 17.13428124 16.1490035  18.56870453 21.06022569 19.04732976 20.3420821\n",
      " 23.53294726 23.38097564 15.         23.33112491 16.05587206 26.\n",
      " 20.16750636 16.13011573 22.91966732 19.88936302 25.72020522 15.\n",
      " 22.00708401 23.17381142 20.64184937 20.92726192 15.25426316 15.57003309\n",
      " 15.52159045 24.08982715 18.8797755  19.32007149 26.         21.65106337\n",
      " 21.02871984 23.03402294 18.54539166 15.         15.         26.\n",
      " 16.59327932 18.16009701 24.69786251 21.36839372 18.24552998 20.1825064\n",
      " 20.8039871  26.         24.8608649  17.33907468 24.13822386 17.85436715\n",
      " 16.08274141 23.24173062 25.62389324 15.28169108 17.81414208 18.72433979\n",
      " 26.         17.47149063 23.082433   16.14836386 17.11176547 26.        ]\n"
     ]
    }
   ],
   "source": [
    "# Save the array and load it again.\n",
    "np.save('list11.npy', list11)\n",
    "list12 = np.load('list11.npy')\n",
    "print(list12)\n",
    "    "
   ]
  },
  {
   "cell_type": "code",
   "execution_count": null,
   "metadata": {},
   "outputs": [],
   "source": []
  }
 ],
 "metadata": {
  "kernelspec": {
   "display_name": "Python 3.6.9 64-bit",
   "language": "python",
   "name": "python3"
  },
  "language_info": {
   "codemirror_mode": {
    "name": "ipython",
    "version": 3
   },
   "file_extension": ".py",
   "mimetype": "text/x-python",
   "name": "python",
   "nbconvert_exporter": "python",
   "pygments_lexer": "ipython3",
   "version": "3.6.9"
  },
  "vscode": {
   "interpreter": {
    "hash": "31f2aee4e71d21fbe5cf8b01ff0e069b9275f58929596ceb00d14d90e3e16cd6"
   }
  }
 },
 "nbformat": 4,
 "nbformat_minor": 0
}
