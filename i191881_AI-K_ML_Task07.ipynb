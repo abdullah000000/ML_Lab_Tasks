{
 "cells": [
  {
   "cell_type": "code",
   "execution_count": 1,
   "metadata": {},
   "outputs": [],
   "source": [
    "import numpy as np\n",
    "import pandas as pd\n"
   ]
  },
  {
   "cell_type": "code",
   "execution_count": 2,
   "metadata": {},
   "outputs": [
    {
     "name": "stdout",
     "output_type": "stream",
     "text": [
      "{'than', 'like', 'that', 'of', 'apples', 'is', 'because', 'can', 'fruit', 'but', 'health', 'don’t', 'negative', 'good,', 'have', 'king', 'i', 'people', 'why', 'expensive', 'they', 'good', 'the', 'on', 'a', 'tastier', 'so', 'too', 'juicy', 'mangoes', 'prefer', 'love', 'mango', 'say', 'not', 'more', 'your', 'are', 'lot', 'other', 'fruits', 'eating', 'many', 'impact'}\n"
     ]
    }
   ],
   "source": [
    "total_sentence = \"I love Mangoes mangoes are a lot tastier than other fruits I like mangoes because they are good Apples are good too but I prefer mangoes People say mango is the king of fruit so that is why mangoes are good mangoes are good because they are juicy Eating too many Mangoes can have a negative impact on your health mangoes are good but not too good, I like apples more than mangoes I don’t like mangoes because they are expensive Mangoes are not good I don’t like mangoes\"\n",
    "total_sentence=total_sentence.lower()\n",
    "# find unique words in the sentence\n",
    "unique_words = set(total_sentence.split()) #V\n",
    "print(unique_words)  \n",
    "\n",
    "\n",
    "\n",
    "\n"
   ]
  },
  {
   "cell_type": "code",
   "execution_count": 3,
   "metadata": {},
   "outputs": [],
   "source": [
    "# !pip3 install nltk"
   ]
  },
  {
   "cell_type": "code",
   "execution_count": 4,
   "metadata": {},
   "outputs": [
    {
     "name": "stdout",
     "output_type": "stream",
     "text": [
      "['like', 'apples', 'fruit', 'health', 'don’t', 'negative', 'good,', 'king', 'people', 'expensive', 'good', 'tastier', 'juicy', 'mangoes', 'prefer', 'love', 'mango', 'say', 'lot', 'fruits', 'eating', 'many', 'impact']\n"
     ]
    },
    {
     "name": "stderr",
     "output_type": "stream",
     "text": [
      "[nltk_data] Downloading package stopwords to\n",
      "[nltk_data]     /home/abdullah/nltk_data...\n",
      "[nltk_data]   Package stopwords is already up-to-date!\n"
     ]
    }
   ],
   "source": [
    "# remove stop words from the sentence using nltk\n",
    "import nltk\n",
    "nltk.download('stopwords')\n",
    "from nltk.corpus import stopwords\n",
    "stop_words = set(stopwords.words('english'))\n",
    "filtered_sentence = [w for w in unique_words if not w in stop_words]\n",
    "print(filtered_sentence)"
   ]
  },
  {
   "cell_type": "code",
   "execution_count": 5,
   "metadata": {},
   "outputs": [],
   "source": [
    "pos_sentence = \"I love Mangoes mangoes are a lot tastier than other fruits I like mangoes because they are good Apples are good too but I prefer mangoes People say mango is the king of fruit so that is why mangoes are good mangoes are good because they are juicy\"\n",
    "neg_sentence = \"Eating too many Mangoes can have a negative impact on your health mangoes are good but not too good, I like apples more than mangoes I don’t like mangoes because they are expensive Mangoes are not good I don’t like mangoes\"\n",
    "\n",
    "pos_sentence = pos_sentence.lower()\n",
    "neg_sentence = neg_sentence.lower()\n",
    "\n",
    "\n",
    "\n"
   ]
  },
  {
   "cell_type": "code",
   "execution_count": 6,
   "metadata": {},
   "outputs": [
    {
     "name": "stdout",
     "output_type": "stream",
     "text": [
      "Probability in positive words sentence [0.020833333333333332, 0.020833333333333332, 0.020833333333333332, 0.0, 0.0, 0.0, 0.0, 0.020833333333333332, 0.020833333333333332, 0.0, 0.08333333333333333, 0.020833333333333332, 0.020833333333333332, 0.125, 0.020833333333333332, 0.020833333333333332, 0.020833333333333332, 0.020833333333333332, 0.020833333333333332, 0.020833333333333332, 0.0, 0.0, 0.0]\n",
      "\n",
      "Probability in negative words sentence [0.07317073170731707, 0.024390243902439025, 0.0, 0.024390243902439025, 0.04878048780487805, 0.024390243902439025, 0.024390243902439025, 0.0, 0.0, 0.024390243902439025, 0.04878048780487805, 0.0, 0.0, 0.14634146341463414, 0.0, 0.0, 0.0, 0.0, 0.0, 0.0, 0.024390243902439025, 0.024390243902439025, 0.024390243902439025]\n"
     ]
    }
   ],
   "source": [
    "# find the probability of each word of the filtered_sentence in the positive and negative sentence\n",
    "pos_words = pos_sentence.split()\n",
    "neg_words = neg_sentence.split()\n",
    "pos_prob = []\n",
    "neg_prob = []\n",
    "for word in filtered_sentence:\n",
    "    pos_prob.append(pos_words.count(word) /len(pos_words))\n",
    "    neg_prob.append(neg_words.count(word)/len(neg_words))\n",
    "print(\"Probability in positive words sentence\",pos_prob)\n",
    "print()\n",
    "print(\"Probability in negative words sentence\",neg_prob)\n",
    "    \n"
   ]
  },
  {
   "cell_type": "code",
   "execution_count": 11,
   "metadata": {},
   "outputs": [
    {
     "name": "stdout",
     "output_type": "stream",
     "text": [
      "Probability of user input [0.0, 0.0, 0.0, 0.1111111111111111, 0.0, 0.1111111111111111, 0.0, 0.0, 0.0, 0.0, 0.0, 0.0, 0.0, 0.1111111111111111, 0.0, 0.0, 0.0, 0.0, 0.0, 0.0, 0.0, 0.0, 0.1111111111111111]\n",
      "\n",
      "Negative\n"
     ]
    }
   ],
   "source": [
    "#take user input and find the probability of the sentence being positive or negative\n",
    "user_input = input(\"Enter the sentence: \")\n",
    "user_input = user_input.lower()\n",
    "user_input = user_input.split()\n",
    "user_prob = []\n",
    "for word in filtered_sentence:\n",
    "    user_prob.append(user_input.count(word)/len(user_input))\n",
    "print(\"Probability of user input\",user_prob)\n",
    "print()\n",
    "\n",
    "#find whether user_prob is closer to pos_prob or neg_prob\n",
    "pos_prob = np.array(pos_prob)\n",
    "neg_prob = np.array(neg_prob)\n",
    "user_prob = np.array(user_prob)\n",
    "pos_diff = np.sum(np.abs(pos_prob - user_prob))\n",
    "neg_diff = np.sum(np.abs(neg_prob - user_prob))\n",
    "if pos_diff < neg_diff:\n",
    "    print(\"Positive\")\n",
    "else:\n",
    "    print(\"Negative\")\n",
    "        \n"
   ]
  },
  {
   "cell_type": "code",
   "execution_count": null,
   "metadata": {},
   "outputs": [],
   "source": []
  }
 ],
 "metadata": {
  "kernelspec": {
   "display_name": "Python 3.6.9 64-bit",
   "language": "python",
   "name": "python3"
  },
  "language_info": {
   "codemirror_mode": {
    "name": "ipython",
    "version": 3
   },
   "file_extension": ".py",
   "mimetype": "text/x-python",
   "name": "python",
   "nbconvert_exporter": "python",
   "pygments_lexer": "ipython3",
   "version": "3.6.9"
  },
  "orig_nbformat": 4,
  "vscode": {
   "interpreter": {
    "hash": "31f2aee4e71d21fbe5cf8b01ff0e069b9275f58929596ceb00d14d90e3e16cd6"
   }
  }
 },
 "nbformat": 4,
 "nbformat_minor": 2
}
