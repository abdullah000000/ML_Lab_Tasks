{
 "cells": [
  {
   "cell_type": "code",
   "execution_count": 1,
   "metadata": {},
   "outputs": [],
   "source": [
    "import pandas as pd\n",
    "import numpy as np"
   ]
  },
  {
   "cell_type": "code",
   "execution_count": 2,
   "metadata": {},
   "outputs": [
    {
     "name": "stdout",
     "output_type": "stream",
     "text": [
      "Features =  Index(['outlook', 'temp', 'humidity', 'wind'], dtype='object')\n",
      "Target Value =  play\n"
     ]
    }
   ],
   "source": [
    "dataset = pd.read_csv('play_tennis.csv')\n",
    "dataset = dataset.drop('day', axis=1)\n",
    "# Define all the features except the day column\n",
    "features = dataset.columns[:-1]\n",
    "# Define the target column\n",
    "target = dataset.columns[-1]\n",
    "print(\"Features = \", features)\n",
    "print(\"Target Value = \",target)"
   ]
  },
  {
   "cell_type": "code",
   "execution_count": 3,
   "metadata": {},
   "outputs": [],
   "source": [
    "# Calculate the entropy of a dataset for a target attribute\n",
    "def entropy(target_col):\n",
    "    elements,counts = np.unique(target_col,return_counts = True)\n",
    "    entropy = np.sum([(-counts[i]/np.sum(counts))*np.log2(counts[i]/np.sum(counts)) for i in range(len(elements))])\n",
    "    return entropy\n",
    "\n"
   ]
  },
  {
   "cell_type": "code",
   "execution_count": 4,
   "metadata": {},
   "outputs": [],
   "source": [
    "# Calculate the information gain (reduction in entropy) that would result by splitting the dataset on the chosen feature\n",
    "def InfoGain(data,split_attribute_name,target_name=\"play\"):\n",
    "\n",
    "    # Calculate the entropy of the total dataset\n",
    "    total_entropy = entropy(data[target_name])\n",
    "    # Calculate the values and the corresponding counts for the split attribute \n",
    "    vals,counts= np.unique(data[split_attribute_name],return_counts=True)\n",
    "    # Calculate the weighted entropy\n",
    "    Weighted_Entropy = np.sum([(counts[i]/np.sum(counts))*entropy(data.where(data[split_attribute_name]==vals[i]).dropna()[target_name]) for i in range(len(vals))])\n",
    "    # Calculate the information gain\n",
    "    Information_Gain = total_entropy - Weighted_Entropy\n",
    "    return Information_Gain"
   ]
  },
  {
   "cell_type": "code",
   "execution_count": 5,
   "metadata": {},
   "outputs": [],
   "source": [
    "# Perform a decision tree classification on the given dataset having continuous values\n",
    "def decision_tree(data, originaldata, features, target_attribute_name=\"play\", parent_node_class = None):\n",
    "    # If all target_values have the same value, return this value\n",
    "    if len(np.unique(data[target_attribute_name])) <= 1:\n",
    "        return np.unique(data[target_attribute_name])[0]\n",
    "    # If the dataset is empty, return the mode target feature value in the original dataset\n",
    "    elif len(data)==0:\n",
    "        return np.unique(originaldata[target_attribute_name])\\\n",
    "               [np.argmax(np.unique(originaldata[target_attribute_name],return_counts=True)[1])]\n",
    "    # If the feature space is empty, return the mode target feature value of the direct parent node\n",
    "    elif len(features) ==0:\n",
    "        return parent_node_class\n",
    "    # If none of the above holds true, grow the tree!\n",
    "    else:\n",
    "        # Set the default value for this node --> The mode target feature value of the current node\n",
    "        parent_node_class = np.unique(data[target_attribute_name])\\\n",
    "                            [np.argmax(np.unique(data[target_attribute_name],return_counts=True)[1])]\n",
    "        # Select the feature which best splits the dataset\n",
    "        item_values = [InfoGain(data,feature,target_attribute_name) for feature in features] #Return the information gain values for the features in the dataset\n",
    "        best_feature_index = np.argmax(item_values)\n",
    "        best_feature = features[best_feature_index]\n",
    "        # Create the tree structure. The root gets the name of the feature (best_feature) with the maximum information\n",
    "        # gain in the first run\n",
    "        tree = {best_feature:{}}\n",
    "        # Remove the feature with the best inforamtion gain from the feature space\n",
    "        features = [i for i in features if i != best_feature]\n",
    "        # Grow a branch under the root node for each possible value of the root node feature\n",
    "        for value in np.unique(data[best_feature]):\n",
    "            value = value\n",
    "            # Split the dataset along the value of the feature with the largest information gain and therwith create sub_datasets\n",
    "            sub_data = data.where(data[best_feature] == value).dropna()\n",
    "            # Call the ID3 algorithm for each of those sub_datasets with the new parameters --> Here the recursion comes in!\n",
    "            subtree = decision_tree(sub_data,dataset,features,target_attribute_name,parent_node_class)\n",
    "            # Add the sub tree, grown from the sub_dataset to the tree under the root node\n",
    "            tree[best_feature][value] = subtree\n",
    "        return(tree)"
   ]
  },
  {
   "cell_type": "code",
   "execution_count": 6,
   "metadata": {},
   "outputs": [
    {
     "name": "stdout",
     "output_type": "stream",
     "text": [
      "{'temp': {40: 'Yes', 50: 'No', 60: 'Yes', 70: {'outlook': {'Rain': {'wind': {'Strong': 'No', 'Weak': 'Yes'}}, 'Sunny': 'No'}}, 75: 'Yes', 80: 'Yes', 90: {'outlook': {'Overcast': 'Yes', 'Sunny': 'No'}}, 100: 'No'}}\n"
     ]
    }
   ],
   "source": [
    "# Define the tree structure.\n",
    "tree = decision_tree(dataset,dataset,features)\n",
    "# Print the tree\n",
    "print(tree)\n"
   ]
  },
  {
   "cell_type": "code",
   "execution_count": 7,
   "metadata": {},
   "outputs": [],
   "source": [
    "# Call the decision tree function with random values for the features\n",
    "def predict(query,tree,default = 1):\n",
    "    for key in list(query.keys()):\n",
    "        if key in list(tree.keys()):\n",
    "            try:\n",
    "                result = tree[key][query[key]] \n",
    "            except:\n",
    "                return default\n",
    "            result = tree[key][query[key]]\n",
    "            if isinstance(result,dict):\n",
    "                return predict(query,result)\n",
    "            else:\n",
    "                return result\n",
    "            \n"
   ]
  },
  {
   "cell_type": "code",
   "execution_count": 8,
   "metadata": {},
   "outputs": [
    {
     "name": "stdout",
     "output_type": "stream",
     "text": [
      "Prediction for the given query is:  No\n"
     ]
    }
   ],
   "source": [
    "# Test the decision tree with the following values\n",
    "query = dataset.iloc[0,:-1].to_dict()\n",
    "# Predict the target value for the given query\n",
    "prediction = predict(query,tree,1.0)\n",
    "print(\"Prediction for the given query is: \",prediction)\n",
    "    "
   ]
  },
  {
   "cell_type": "code",
   "execution_count": 10,
   "metadata": {},
   "outputs": [
    {
     "name": "stdout",
     "output_type": "stream",
     "text": [
      "Prediction for the given query is:  Yes\n"
     ]
    }
   ],
   "source": [
    "# Another test with different values\n",
    "query = dataset.iloc[2,:-1].to_dict()\n",
    "# Predict the target value for the given query\n",
    "prediction = predict(query,tree,1.0)\n",
    "print(\"Prediction for the given query is: \",prediction)\n"
   ]
  },
  {
   "cell_type": "code",
   "execution_count": null,
   "metadata": {},
   "outputs": [],
   "source": []
  }
 ],
 "metadata": {
  "kernelspec": {
   "display_name": "Python 3.6.9 64-bit",
   "language": "python",
   "name": "python3"
  },
  "language_info": {
   "codemirror_mode": {
    "name": "ipython",
    "version": 3
   },
   "file_extension": ".py",
   "mimetype": "text/x-python",
   "name": "python",
   "nbconvert_exporter": "python",
   "pygments_lexer": "ipython3",
   "version": "3.6.9"
  },
  "orig_nbformat": 4,
  "vscode": {
   "interpreter": {
    "hash": "31f2aee4e71d21fbe5cf8b01ff0e069b9275f58929596ceb00d14d90e3e16cd6"
   }
  }
 },
 "nbformat": 4,
 "nbformat_minor": 2
}
