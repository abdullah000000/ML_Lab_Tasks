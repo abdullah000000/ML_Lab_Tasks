{
 "cells": [
  {
   "cell_type": "code",
   "execution_count": 30,
   "metadata": {},
   "outputs": [
    {
     "name": "stdout",
     "output_type": "stream",
     "text": [
      "Shape of arr_int is:  (8,)\n",
      "Shape of arr_char is:  (6,)\n",
      "Shape of arr_float is:  (5,)\n"
     ]
    }
   ],
   "source": [
    "# Create a numpy array of int, characters, float and find their shapes\n",
    "\n",
    "import numpy as np\n",
    "\n",
    "# Create a numpy array of int\n",
    "arr_int = np.array([1, 2, 3, 4,9,10,11,12])\n",
    "arr_char = np.array(['a', 'b', 'c', 'd', 'e', 'f'])\n",
    "arr_float = np.array([1.1, 2.2, 3.3, 4.4, 5.5])\n",
    "\n",
    "#find their shapes\n",
    "print(\"Shape of arr_int is: \", arr_int.shape)\n",
    "print(\"Shape of arr_char is: \", arr_char.shape)\n",
    "print(\"Shape of arr_float is: \", arr_float.shape)"
   ]
  },
  {
   "cell_type": "code",
   "execution_count": 31,
   "metadata": {},
   "outputs": [
    {
     "name": "stdout",
     "output_type": "stream",
     "text": [
      "arr_zeros is:  [[0. 0. 0.]\n",
      " [0. 0. 0.]\n",
      " [0. 0. 0.]]\n",
      "arr_empty is:  [[0. 0. 0.]\n",
      " [0. 0. 0.]\n",
      " [0. 0. 0.]]\n",
      "arr_identity is:  [[1. 0. 0.]\n",
      " [0. 1. 0.]\n",
      " [0. 0. 1.]]\n",
      "arr_eye is:  [[1. 0. 0.]\n",
      " [0. 1. 0.]\n",
      " [0. 0. 1.]]\n",
      "arr_full is:  [[5 5 5]\n",
      " [5 5 5]\n",
      " [5 5 5]]\n"
     ]
    }
   ],
   "source": [
    "# Create a zeros, empty, identity , eye and a full array\n",
    "arr_zeros = np.zeros((3, 3))\n",
    "arr_empty = np.empty((3, 3))\n",
    "arr_identity = np.identity(3)\n",
    "arr_eye = np.eye(3)\n",
    "arr_full = np.full((3, 3), 5)\n",
    "\n",
    "# Print the arrays\n",
    "print(\"arr_zeros is: \", arr_zeros)\n",
    "print(\"arr_empty is: \", arr_empty)\n",
    "print(\"arr_identity is: \", arr_identity)\n",
    "print(\"arr_eye is: \", arr_eye)\n",
    "print(\"arr_full is: \", arr_full)\n",
    "    "
   ]
  },
  {
   "cell_type": "code",
   "execution_count": 32,
   "metadata": {},
   "outputs": [
    {
     "name": "stdout",
     "output_type": "stream",
     "text": [
      "arr_obj is:  [1 2 3 4 5]\n",
      "\n",
      "Yes Possible\n"
     ]
    }
   ],
   "source": [
    "# Declare an array having the datatype of object.\n",
    "arr_obj = np.array([1, 2, 3, 4, 5], dtype=object)\n",
    "print(\"arr_obj is: \", arr_obj)\n",
    "\n",
    "print(\"\\nYes Possible\")"
   ]
  },
  {
   "cell_type": "code",
   "execution_count": 33,
   "metadata": {},
   "outputs": [
    {
     "name": "stdout",
     "output_type": "stream",
     "text": [
      "arr is:  [ 5.   7.5 10.  12.5 15. ]\n"
     ]
    }
   ],
   "source": [
    "# Create an array having 5 equally spaced numbers ranging from 5 to 15\n",
    "arr = np.linspace(5, 15, 5)\n",
    "print(\"arr is: \", arr)\n"
   ]
  },
  {
   "cell_type": "code",
   "execution_count": 34,
   "metadata": {},
   "outputs": [
    {
     "name": "stdout",
     "output_type": "stream",
     "text": [
      "arr is:  [  1   2   3   4   5   6   7   8   9  10  11  12  13  14  15  16  17  18\n",
      "  19  20  21  22  23  24  25  26  27  28  29  30  31  32  33  34  35  36\n",
      "  37  38  39  40  41  42  43  44  45  46  47  48  49  50  51  52  53  54\n",
      "  55  56  57  58  59  60  61  62  63  64  65  66  67  68  69  70  71  72\n",
      "  73  74  75  76  77  78  79  80  81  82  83  84  85  86  87  88  89  90\n",
      "  91  92  93  94  95  96  97  98  99 100]\n"
     ]
    }
   ],
   "source": [
    "# Create a numpy array ranging from 1 to 100.\n",
    "arr = np.arange(1, 101)\n",
    "print(\"arr is: \", arr)"
   ]
  },
  {
   "cell_type": "code",
   "execution_count": 35,
   "metadata": {},
   "outputs": [
    {
     "name": "stdout",
     "output_type": "stream",
     "text": [
      "\n",
      " No Not Possible\n"
     ]
    }
   ],
   "source": [
    "# Reshape the above array into (100,15). Is it possible?\n",
    "# arr = np.arange(1, 101).reshape(100, 15)\n",
    "# print(\"arr is: \", arr)\n",
    "\n",
    "print (\"\\n No Not Possible\")"
   ]
  },
  {
   "cell_type": "code",
   "execution_count": 36,
   "metadata": {},
   "outputs": [
    {
     "name": "stdout",
     "output_type": "stream",
     "text": [
      "arr is:  [[  1   2   3   4   5   6   7   8   9  10]\n",
      " [ 11  12  13  14  15  16  17  18  19  20]\n",
      " [ 21  22  23  24  25  26  27  28  29  30]\n",
      " [ 31  32  33  34  35  36  37  38  39  40]\n",
      " [ 41  42  43  44  45  46  47  48  49  50]\n",
      " [ 51  52  53  54  55  56  57  58  59  60]\n",
      " [ 61  62  63  64  65  66  67  68  69  70]\n",
      " [ 71  72  73  74  75  76  77  78  79  80]\n",
      " [ 81  82  83  84  85  86  87  88  89  90]\n",
      " [ 91  92  93  94  95  96  97  98  99 100]]\n"
     ]
    }
   ],
   "source": [
    "# Reshape the array into (100,10).\n",
    "# arr = np.arange(1, 101).reshape(100, 10) // This is not possible\n",
    "arr = np.arange(1, 101).reshape(10, 10) # This is possible\n",
    "print(\"arr is: \", arr)"
   ]
  },
  {
   "cell_type": "code",
   "execution_count": 40,
   "metadata": {},
   "outputs": [
    {
     "name": "stdout",
     "output_type": "stream",
     "text": [
      "arr_flatten is:  [  1   2   3   4   5   6   7   8   9  10  11  12  13  14  15  16  17  18\n",
      "  19  20  21  22  23  24  25  26  27  28  29  30  31  32  33  34  35  36\n",
      "  37  38  39  40  41  42  43  44  45  46  47  48  49  50  51  52  53  54\n",
      "  55  56  57  58  59  60  61  62  63  64  65  66  67  68  69  70  71  72\n",
      "  73  74  75  76  77  78  79  80  81  82  83  84  85  86  87  88  89  90\n",
      "  91  92  93  94  95  96  97  98  99 100]\n",
      "arr_ravel is:  [  1   2   3   4   5   6   7   8   9  10  11  12  13  14  15  16  17  18\n",
      "  19  20  21  22  23  24  25  26  27  28  29  30  31  32  33  34  35  36\n",
      "  37  38  39  40  41  42  43  44  45  46  47  48  49  50  51  52  53  54\n",
      "  55  56  57  58  59  60  61  62  63  64  65  66  67  68  69  70  71  72\n",
      "  73  74  75  76  77  78  79  80  81  82  83  84  85  86  87  88  89  90\n",
      "  91  92  93  94  95  96  97  98  99 100]\n",
      "\n",
      "The difference between flatten and ravel is that flatten returns a copy of the array while ravel returns a view of the array\n"
     ]
    }
   ],
   "source": [
    "# Flatten and ravel the reshaped array. What is the difference?\n",
    "arr_flatten = arr.flatten()\n",
    "arr_ravel = arr.ravel()\n",
    "print(\"arr_flatten is: \", arr_flatten)\n",
    "print(\"arr_ravel is: \", arr_ravel)\n",
    "\n",
    "print(\"\\nThe difference between flatten and ravel is that flatten returns a copy of the array while ravel returns a view of the array\")\n",
    "\n",
    "    "
   ]
  },
  {
   "cell_type": "code",
   "execution_count": 41,
   "metadata": {},
   "outputs": [
    {
     "name": "stdout",
     "output_type": "stream",
     "text": [
      "arr is:  [[1 2 3]\n",
      " [4 5 6]\n",
      " [7 8 9]]\n",
      "Sum along 0 axis is:  [12 15 18]\n",
      "Sum along 1 axis is:  [ 6 15 24]\n"
     ]
    }
   ],
   "source": [
    "# Take an array [[1 2 3] [4 5 6] [ 7 8 9]]. Sum it along 0 and 1 axis\n",
    "arr = np.array([[1, 2, 3], [4, 5, 6], [7, 8, 9]])\n",
    "print(\"arr is: \", arr)\n",
    "print(\"Sum along 0 axis is: \", arr.sum(axis=0))\n",
    "print(\"Sum along 1 axis is: \", arr.sum(axis=1))\n",
    "\n",
    "        "
   ]
  },
  {
   "cell_type": "code",
   "execution_count": 42,
   "metadata": {},
   "outputs": [
    {
     "name": "stdout",
     "output_type": "stream",
     "text": [
      "Number of bytes used by arr is:  72\n"
     ]
    }
   ],
   "source": [
    "# Find the number of bytes used by your array\n",
    "print(\"Number of bytes used by arr is: \", arr.nbytes)\n",
    "    "
   ]
  },
  {
   "cell_type": "code",
   "execution_count": 43,
   "metadata": {},
   "outputs": [
    {
     "name": "stdout",
     "output_type": "stream",
     "text": [
      "arr is:  [1 2 3 4 5 6 7 8 9]\n",
      "Maximum value in arr is:  9\n",
      "Minimum value in arr is:  1\n"
     ]
    }
   ],
   "source": [
    "# Find the maximum and minimum values in a 1D array.\n",
    "arr = np.array([1, 2, 3, 4, 5, 6, 7, 8, 9])\n",
    "print(\"arr is: \", arr)\n",
    "\n",
    "print(\"Maximum value in arr is: \", arr.max())\n",
    "print(\"Minimum value in arr is: \", arr.min())"
   ]
  },
  {
   "cell_type": "code",
   "execution_count": 44,
   "metadata": {},
   "outputs": [
    {
     "name": "stdout",
     "output_type": "stream",
     "text": [
      "arr is:  [[1 2 3]\n",
      " [4 5 6]\n",
      " [7 8 9]]\n",
      "Maximum value in arr is:  9\n",
      "Minimum value in arr is:  1\n"
     ]
    }
   ],
   "source": [
    "# Find the maximum and minimum values in 2D array\n",
    "arr = np.array([[1, 2, 3], [4, 5, 6], [7, 8, 9]])\n",
    "print(\"arr is: \", arr)\n",
    "\n",
    "print(\"Maximum value in arr is: \", arr.max())\n",
    "print(\"Minimum value in arr is: \", arr.min())\n"
   ]
  },
  {
   "cell_type": "code",
   "execution_count": 46,
   "metadata": {},
   "outputs": [
    {
     "name": "stdout",
     "output_type": "stream",
     "text": [
      "arr is:  [1 4 3 2 7 8 9]\n",
      "arr after sorting is:  [1 2 3 4 7 8 9]\n"
     ]
    }
   ],
   "source": [
    "# Sort an array\n",
    "arr = np.array([1,4,3, 2, 7, 8, 9])\n",
    "print(\"arr is: \", arr)\n",
    "\n",
    "arr.sort()\n",
    "print(\"arr after sorting is: \", arr)\n"
   ]
  },
  {
   "cell_type": "code",
   "execution_count": 49,
   "metadata": {},
   "outputs": [
    {
     "name": "stdout",
     "output_type": "stream",
     "text": [
      "arr1 is:  [1 2 3]\n",
      "arr2 is:  [4 5 6]\n",
      "arr1 * arr2 is:  [ 4 10 18]\n",
      "arr1.dot(arr2) is:  32\n"
     ]
    }
   ],
   "source": [
    "# Is * and mul the same as dot product for numpy arrays and matrices? Check.\n",
    "arr1 = np.array([1, 2, 3])  \n",
    "arr2 = np.array([4, 5, 6])\n",
    "print(\"arr1 is: \", arr1)\n",
    "print(\"arr2 is: \", arr2)\n",
    "\n",
    "print(\"arr1 * arr2 is: \", arr1 * arr2)\n",
    "print(\"arr1.dot(arr2) is: \", arr1.dot(arr2))\n",
    "\n"
   ]
  },
  {
   "cell_type": "code",
   "execution_count": 50,
   "metadata": {},
   "outputs": [
    {
     "name": "stdout",
     "output_type": "stream",
     "text": [
      "arr is:  [  1   4   9  16  25  36  49  64  81 100]\n",
      "Square root of arr is:  [ 1.  2.  3.  4.  5.  6.  7.  8.  9. 10.]\n",
      "Norm of arr is:  159.16343801262903\n"
     ]
    }
   ],
   "source": [
    "# Take the square root and norm of an array.\n",
    "arr = np.array([1, 4, 9, 16, 25, 36, 49, 64, 81, 100])\n",
    "print(\"arr is: \", arr)\n",
    "\n",
    "print(\"Square root of arr is: \", np.sqrt(arr))\n",
    "print(\"Norm of arr is: \", np.linalg.norm(arr))\n",
    "\n",
    "        "
   ]
  },
  {
   "cell_type": "code",
   "execution_count": 51,
   "metadata": {},
   "outputs": [
    {
     "name": "stdout",
     "output_type": "stream",
     "text": [
      "arr is:  [1 2 3 4 5 6 7 8 9]\n",
      "Standard deviation of arr is:  2.581988897471611\n",
      "Non-zero values in arr is:  9\n",
      "Zero values in arr is:  0\n",
      "Mean of arr is:  5.0\n"
     ]
    }
   ],
   "source": [
    "# Find the std, non-zero, zero values and mean of an array.\n",
    "arr = np.array([1, 2, 3, 4, 5, 6, 7, 8, 9])\n",
    "print(\"arr is: \", arr)\n",
    "\n",
    "print(\"Standard deviation of arr is: \", np.std(arr))\n",
    "print(\"Non-zero values in arr is: \", np.count_nonzero(arr))\n",
    "print(\"Zero values in arr is: \", np.count_nonzero(arr == 0))\n",
    "print(\"Mean of arr is: \", np.mean(arr))\n",
    "    "
   ]
  },
  {
   "cell_type": "code",
   "execution_count": 52,
   "metadata": {},
   "outputs": [
    {
     "name": "stdout",
     "output_type": "stream",
     "text": [
      "arr is:  [ 0 30 45 60 90]\n",
      "arr in radians is:  [0.         0.52359878 0.78539816 1.04719755 1.57079633]\n",
      "arr in degrees is:  [   0.         1718.87338539 2578.31007809 3437.74677078 5156.62015618]\n"
     ]
    }
   ],
   "source": [
    "# Convert some angles to radians and vice versa.\n",
    "arr = np.array([0, 30, 45, 60, 90])\n",
    "print(\"arr is: \", arr)\n",
    "\n",
    "print(\"arr in radians is: \", np.radians(arr))\n",
    "print(\"arr in degrees is: \", np.degrees(arr))\n",
    "\n",
    "        "
   ]
  },
  {
   "cell_type": "code",
   "execution_count": 54,
   "metadata": {},
   "outputs": [
    {
     "name": "stdout",
     "output_type": "stream",
     "text": [
      "arr is:  [1 4 2 6 7 8 9]\n",
      "arr_load is:  [1 4 2 6 7 8 9]\n"
     ]
    }
   ],
   "source": [
    "# Save and load some of your arrays\n",
    "arr = np.array([1, 4, 2, 6, 7, 8, 9])\n",
    "print(\"arr is: \", arr)\n",
    "\n",
    "np.save(\"arr\", arr)\n",
    "arr_load = np.load(\"arr.npy\")\n",
    "print(\"arr_load is: \", arr_load)\n",
    "\n"
   ]
  },
  {
   "cell_type": "code",
   "execution_count": 56,
   "metadata": {},
   "outputs": [
    {
     "name": "stdout",
     "output_type": "stream",
     "text": [
      "arr is:  [[[[20.81815232 23.13976344 14.65254511]\n",
      "   [19.34202866 21.84830666 21.48531214]\n",
      "   [19.03435503 20.17391937 17.45621474]\n",
      "   [27.20991933 16.385663   20.9138636 ]\n",
      "   [20.55449004 25.74806582 18.38878253]\n",
      "   [11.60846553 25.61759176 22.72759192]\n",
      "   [24.98014974 18.27892724 19.05689472]\n",
      "   [17.64232455 17.68050536 16.67800387]\n",
      "   [22.21227862 19.54366264 24.37326456]\n",
      "   [20.99558877 24.35770317 19.55339463]\n",
      "   [16.25842964 23.37258585 29.55705894]\n",
      "   [24.31915783 26.0529209  23.49105659]]\n",
      "\n",
      "  [[24.63028161 18.94559643 26.00675595]\n",
      "   [11.8690672  17.2717762  25.34476047]\n",
      "   [22.13305925 27.42873448 18.72036585]\n",
      "   [18.20774246 21.66150929 18.51481914]\n",
      "   [22.26316677 18.15047131 16.44402306]\n",
      "   [21.2439899  26.85679753 19.7802412 ]\n",
      "   [27.39798311 24.98525013 19.20598622]\n",
      "   [30.78223171 18.35584993 22.51151202]\n",
      "   [12.9215074  19.86050304 20.17039071]\n",
      "   [17.25588432 20.95648893 14.97301927]\n",
      "   [19.54555736 24.17289578 11.31976237]\n",
      "   [25.78979346 13.01023203 21.6451614 ]]\n",
      "\n",
      "  [[18.69695383 24.6272695  17.77035437]\n",
      "   [29.04301745 19.03415128 25.84610831]\n",
      "   [19.03110712 20.81782796 20.37493958]\n",
      "   [14.76027553 24.64947479 25.00112011]\n",
      "   [20.8433836  17.4032739  21.40429998]\n",
      "   [17.13397797 20.79636252 27.05761279]\n",
      "   [22.24216496 20.03591162 14.31657142]\n",
      "   [22.21122085 20.24839236 18.90808569]\n",
      "   [13.63321121 19.63412446 22.71625389]\n",
      "   [22.36784664 17.29956435 20.77551689]\n",
      "   [19.91235958 23.40042451 23.85311496]\n",
      "   [15.39154646 22.61623173  7.77925532]]]\n",
      "\n",
      "\n",
      " [[[18.66893307 11.32824344 17.56374579]\n",
      "   [22.87795483 20.16931103 18.86902824]\n",
      "   [20.97873776 22.02432097 15.78205343]\n",
      "   [30.86156629 20.9400776  19.13618083]\n",
      "   [29.27825157 27.44329429 21.03944249]\n",
      "   [23.25686521 31.16983676 20.6920796 ]\n",
      "   [15.50063434 18.15345412 23.51734711]\n",
      "   [25.47587309 23.09941745 24.99344907]\n",
      "   [23.86941896 21.1282817  16.71864977]\n",
      "   [22.54019046 15.61219729 19.06471504]\n",
      "   [20.75698718 16.81724784 22.83240847]\n",
      "   [15.43680802 17.65933196 24.66864417]]\n",
      "\n",
      "  [[18.87351154 24.55865557 34.85154005]\n",
      "   [18.64613494 28.00158795 17.11658448]\n",
      "   [30.1497919  22.51663614 13.87122065]\n",
      "   [29.9042268  18.56230043 20.79467933]\n",
      "   [23.36110788 23.78127095 24.97130868]\n",
      "   [24.89997418 23.76990877 26.26345086]\n",
      "   [22.19393593 22.34373582 26.09362506]\n",
      "   [17.39760802 15.4348792  32.82853556]\n",
      "   [21.13412334 24.55990021 22.13168489]\n",
      "   [20.51134028 11.47967555 18.43719878]\n",
      "   [22.70673042 13.2124638  16.81440036]\n",
      "   [22.11853694 15.60267679 26.86908242]]\n",
      "\n",
      "  [[23.32581053 17.07910712 11.36408739]\n",
      "   [32.04761478 33.36920193 17.32634694]\n",
      "   [25.05225462 19.08918569 22.8336676 ]\n",
      "   [24.19876718 26.57654956 28.75867393]\n",
      "   [24.21620357 24.51003035 24.43543092]\n",
      "   [21.60910492 24.57137852 23.50186076]\n",
      "   [23.81095493 20.05219946 16.80699931]\n",
      "   [23.56205254 32.04698841 20.48589734]\n",
      "   [20.42546902 22.81390595 17.24735683]\n",
      "   [20.67794631 25.79231283 23.04807149]\n",
      "   [19.17326547 14.71283752 13.27941375]\n",
      "   [27.28091663 21.17753358 23.77239409]]]\n",
      "\n",
      "\n",
      " [[[23.67340379 14.24361254 21.25066284]\n",
      "   [29.66593428 22.54472745 31.76316077]\n",
      "   [20.7514178  26.00132301 20.42781757]\n",
      "   [26.72293463 10.53067455 17.51958367]\n",
      "   [16.03407414 18.66073176 27.84715385]\n",
      "   [26.39405329  8.87556991 19.13775243]\n",
      "   [22.70303564 28.73260008 20.38396915]\n",
      "   [22.17339875 22.69142872 24.69606906]\n",
      "   [19.14994441 24.59997277 24.39939045]\n",
      "   [25.75578548 22.32756435 17.54539304]\n",
      "   [19.29105108 27.62218253 15.99958189]\n",
      "   [22.62713219 17.28469836 24.09683794]]\n",
      "\n",
      "  [[20.9516992  17.64645666 17.71267566]\n",
      "   [31.81547041 28.77727967 22.99938869]\n",
      "   [21.74384758 27.23308917 14.00932832]\n",
      "   [27.17263256 24.07456942 11.71454437]\n",
      "   [29.34813316 27.7865099  19.55655454]\n",
      "   [24.54348018 15.12859082 18.97353204]\n",
      "   [26.52040211 11.47965629 19.8551066 ]\n",
      "   [22.89503364 20.17430331 24.93382224]\n",
      "   [18.05342953 19.68234428 22.53480383]\n",
      "   [18.97064735 19.89061053 14.935058  ]\n",
      "   [26.24489219 18.42625685 15.62869845]\n",
      "   [19.60932831 24.33304052 10.9293251 ]]\n",
      "\n",
      "  [[19.49851996 11.12293505 29.71143197]\n",
      "   [23.75875197 17.7055888  16.96461793]\n",
      "   [21.0802519  25.6262173  23.71711267]\n",
      "   [17.05488829 20.51253788 18.43522654]\n",
      "   [20.94330616 24.52224434 24.43156001]\n",
      "   [12.48417144 24.42468518 22.27284218]\n",
      "   [27.95816583 22.23848028 22.46233688]\n",
      "   [20.11560959 21.42670867 28.18707866]\n",
      "   [24.37162825 24.68247118 22.80616403]\n",
      "   [16.17649016 25.36470477 20.72600631]\n",
      "   [25.07274594 21.07109906 27.67216236]\n",
      "   [24.62492314 19.70130514 21.46811621]]]]\n",
      "\n",
      "Mean of arr is:  21.373452038566192\n",
      "Standard deviation of arr is:  4.656806465255394\n",
      "Variance of arr is:  21.685846454844434\n",
      "Maximum value in arr is:  34.851540050502585\n",
      "Minimum value in arr is:  7.7792553240845095\n"
     ]
    }
   ],
   "source": [
    "# Calculate the mean, std, var, max, min, of an array with shape (3,3,12,3) containing floats drawn from a normal distribution with mean 21 and sigma 4.5. see the np.random.normal.\n",
    "arr = np.random.normal(21, 4.5, (3, 3, 12, 3))\n",
    "print(\"arr is: \", arr)\n",
    "print()\n",
    "print(\"Mean of arr is: \", np.mean(arr))\n",
    "print(\"Standard deviation of arr is: \", np.std(arr))\n",
    "print(\"Variance of arr is: \", np.var(arr))\n",
    "print(\"Maximum value in arr is: \", np.max(arr))\n",
    "print(\"Minimum value in arr is: \", np.min(arr))\n",
    "\n"
   ]
  },
  {
   "cell_type": "code",
   "execution_count": null,
   "metadata": {},
   "outputs": [],
   "source": []
  }
 ],
 "metadata": {
  "kernelspec": {
   "display_name": "Python 3.6.9 64-bit",
   "language": "python",
   "name": "python3"
  },
  "language_info": {
   "codemirror_mode": {
    "name": "ipython",
    "version": 3
   },
   "file_extension": ".py",
   "mimetype": "text/x-python",
   "name": "python",
   "nbconvert_exporter": "python",
   "pygments_lexer": "ipython3",
   "version": "3.6.9"
  },
  "orig_nbformat": 4,
  "vscode": {
   "interpreter": {
    "hash": "31f2aee4e71d21fbe5cf8b01ff0e069b9275f58929596ceb00d14d90e3e16cd6"
   }
  }
 },
 "nbformat": 4,
 "nbformat_minor": 2
}
